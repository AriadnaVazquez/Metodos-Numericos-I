{
  "cells": [
    {
      "cell_type": "markdown",
      "metadata": {
        "id": "view-in-github",
        "colab_type": "text"
      },
      "source": [
        "<a href=\"https://colab.research.google.com/github/AriadnaVazquez/Metodos-Numericos-I/blob/main/M%C3%A9todo%20del%20punto%20fijo_tarea1.ipynb\" target=\"_parent\"><img src=\"https://colab.research.google.com/assets/colab-badge.svg\" alt=\"Open In Colab\"/></a>"
      ]
    },
    {
      "cell_type": "code",
      "source": [
        "from math import pow"
      ],
      "metadata": {
        "id": "4QOhyUb6Fr2V"
      },
      "execution_count": 172,
      "outputs": []
    },
    {
      "cell_type": "code",
      "source": [
        "#Definir la función original f(x) que, en este caso, no será utilizada directamente\n",
        "def funcion1(x):\n",
        "  return x**3 - x - 1"
      ],
      "metadata": {
        "id": "K7Z667GPF3Zu"
      },
      "execution_count": 173,
      "outputs": []
    },
    {
      "cell_type": "code",
      "source": [
        "#Definir la función g(p)\n",
        "def funcion_g(p):\n",
        "  return (p+1)**(1/3)"
      ],
      "metadata": {
        "id": "7m7IE3p-GQb5"
      },
      "execution_count": 174,
      "outputs": []
    },
    {
      "cell_type": "code",
      "source": [
        "# Ingreso de datos de entrada para los diferentes métodos a trabajar\n",
        "a = 1  # Extremo inferior del intervalo\n",
        "b = 2  # Extremo superior del intervalo\n",
        "\n",
        "# Guarda valores iniciales del error y del número de iteraciones\n",
        "tol = 0.01  # Representa la tolerancia\n",
        "nmax = 100  # Representa el número máximo de iteraciones\n",
        "error = 100  # Indica que el error comienza en 100\n",
        "niter = 0  # Se encarga de contar las iteraciones"
      ],
      "metadata": {
        "id": "5Kw0l35VGqvB"
      },
      "execution_count": 175,
      "outputs": []
    },
    {
      "cell_type": "code",
      "source": [
        "# Método del punto fijo\n",
        "\n",
        "# Primer valor de p, usando el punto medio del intervalo\n",
        "p = 1.5\n",
        "g_p=funcion_g(p)\n",
        "\n",
        "# Encabezado de la tabla\n",
        "print(\"n \\t\\t p \\t\\t g(p) \\t\\t Error\")\n",
        "\n",
        "#Impirmir la primera fila\n",
        "print(\"1\\t\\t {0:6.6f} \\t {1:6.6f} \\t{2:6.6f}\".format(p,g_p,error))\n",
        "\n",
        "# Ciclo iterativo\n",
        "while error > tol and niter < nmax:\n",
        "    niter += 1\n",
        "    # Guardar el valor anterior de p\n",
        "    p_anterior = p\n",
        "    # Actualizar el valor de p y calcular g(p)\n",
        "    p = g_p  # p toma el valor de g(p) en cada iteración\n",
        "    g_p = funcion_g(p)\n",
        "\n",
        "    # Calcular el error\n",
        "    error = abs(g_p - funcion_g(p_anterior))\n",
        "\n",
        "    # Imprimir valores de la iteración\n",
        "    print(\"{0}\\t\\t {1:6.6f} \\t {2:6.6f} \\t {3:6.6f}\".format(niter+1, p, g_p, error))\n",
        "\n",
        "# Imprimir el resultado final\n",
        "print(\"\\nLa raíz de la función dada en el intervalo [{0:6.6f},{1:6.6f}] es:{2:6.6f}\".format(a, b, p))"
      ],
      "metadata": {
        "id": "r82PxFe4Gxeq",
        "outputId": "d93c04ce-5116-4ea7-e483-853145e3d3c6",
        "colab": {
          "base_uri": "https://localhost:8080/"
        }
      },
      "execution_count": 176,
      "outputs": [
        {
          "output_type": "stream",
          "name": "stdout",
          "text": [
            "n \t\t p \t\t g(p) \t\t Error\n",
            "1\t\t 1.500000 \t 1.357209 \t100.000000\n",
            "2\t\t 1.357209 \t 1.330861 \t 0.026348\n",
            "3\t\t 1.330861 \t 1.325884 \t 0.004977\n",
            "\n",
            "La raíz de la función dada en el intervalo [1.000000,2.000000] es:1.330861\n"
          ]
        }
      ]
    }
  ],
  "metadata": {
    "colab": {
      "name": "Te damos la bienvenida a Colaboratory",
      "toc_visible": true,
      "provenance": [],
      "include_colab_link": true
    },
    "kernelspec": {
      "display_name": "Python 3",
      "name": "python3"
    }
  },
  "nbformat": 4,
  "nbformat_minor": 0
}