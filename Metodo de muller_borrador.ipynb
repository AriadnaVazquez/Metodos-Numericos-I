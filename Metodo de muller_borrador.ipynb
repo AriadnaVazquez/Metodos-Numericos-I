{
  "nbformat": 4,
  "nbformat_minor": 0,
  "metadata": {
    "colab": {
      "provenance": [],
      "authorship_tag": "ABX9TyMZb+4bKFuk+Di4Rmv0zkbt",
      "include_colab_link": true
    },
    "kernelspec": {
      "name": "python3",
      "display_name": "Python 3"
    },
    "language_info": {
      "name": "python"
    }
  },
  "cells": [
    {
      "cell_type": "markdown",
      "metadata": {
        "id": "view-in-github",
        "colab_type": "text"
      },
      "source": [
        "<a href=\"https://colab.research.google.com/github/AriadnaVazquez/Metodos-Numericos-I/blob/main/Metodo%20de%20muller_borrador.ipynb\" target=\"_parent\"><img src=\"https://colab.research.google.com/assets/colab-badge.svg\" alt=\"Open In Colab\"/></a>"
      ]
    },
    {
      "cell_type": "code",
      "source": [
        "import math  # Librería para funciones matemáticas reales\n",
        "\n",
        "# Definición del polinomio f(x)\n",
        "def f(x):\n",
        "    return x**4 - 3*x**3 + x**2 + x + 1\n",
        "\n",
        "# Método de Müller sin números complejos\n",
        "def muller(f, x0, x1, x2, tol=1e-5, max_iter=100):\n",
        "    \"\"\"\n",
        "    Implementa el método de Müller para encontrar una raíz de la función f,\n",
        "    sin permitir que aparezcan números complejos en la tabla.\n",
        "\n",
        "    Parámetros:\n",
        "    f       : función polinómica a resolver.\n",
        "    x0, x1, x2 : puntos iniciales de la aproximación.\n",
        "    tol     : tolerancia para la convergencia.\n",
        "    max_iter: número máximo de iteraciones permitidas.\n",
        "\n",
        "    Retorna:\n",
        "    La raíz estimada y el error relativo.\n",
        "    \"\"\"\n",
        "\n",
        "    # Tabla expandida para mostrar más detalles y centrada\n",
        "    header = f\"{'Iteración':^12} {'x2':^20} {'f(x2)':^20} {'a':^12} {'b':^12} {'c':^12} {'Error relativo':^20}\"\n",
        "    print(header)\n",
        "    print(\"=\" * len(header))  # Separador de encabezado\n",
        "\n",
        "    for i in range(max_iter):\n",
        "        # Diferencias sucesivas\n",
        "        h0 = x1 - x0\n",
        "        h1 = x2 - x1\n",
        "        delta0 = (f(x1) - f(x0)) / h0\n",
        "        delta1 = (f(x2) - f(x1)) / h1\n",
        "        a = (delta1 - delta0) / (h1 + h0)\n",
        "        b = a * h1 + delta1\n",
        "        c = f(x2)\n",
        "\n",
        "        # Discriminante de la fórmula cuadrática\n",
        "        discriminant = b**2 - 4*a*c\n",
        "\n",
        "        # Si el discriminante es negativo, significa que aparecerían raíces complejas\n",
        "        if discriminant < 0:\n",
        "            print(\"Se encontró un discriminante negativo, lo que indica raíces complejas.\")\n",
        "            return None\n",
        "\n",
        "        # Tomar la raíz cuadrada del discriminante (solo la parte real)\n",
        "        sqrt_discriminant = math.sqrt(discriminant)\n",
        "\n",
        "        # Seleccionar la raíz con mayor magnitud para evitar divisiones por valores pequeños\n",
        "        if abs(b + sqrt_discriminant) > abs(b - sqrt_discriminant):\n",
        "            denom = b + sqrt_discriminant\n",
        "        else:\n",
        "            denom = b - sqrt_discriminant\n",
        "\n",
        "        # Calcular el incremento en x2\n",
        "        dx = -2 * c / denom\n",
        "        x3 = x2 + dx\n",
        "\n",
        "        # Cálculo del error relativo\n",
        "        error_relativo = abs(dx) / abs(x3)\n",
        "\n",
        "        # Mostrar solo la parte real\n",
        "        print(f\"{i+1:^12} {x2:^20.10f} {f(x2):^20.10f} {a:^12.6f} {b:^12.6f} {c:^12.6f} {error_relativo:^20.10f}\")\n",
        "\n",
        "        # Comprobar si el error relativo está dentro de la tolerancia\n",
        "        if error_relativo < tol:\n",
        "            print(\"\\nSolución encontrada:\")\n",
        "            print(f\"x = {x3:.10f}, f(x) = {f(x3):.10f}, error relativo = {error_relativo:.10f}\")\n",
        "            return x3  # Retornar solo la parte real de la raíz\n",
        "\n",
        "        # Actualizar los puntos para la siguiente iteración\n",
        "        x0, x1, x2 = x1, x2, x3\n",
        "\n",
        "    # Utilizar si no converge dentro de las iteraciones permitidas\n",
        "    print(\"El método no convergió en el número máximo de iteraciones.\")\n",
        "    return None\n",
        "\n",
        "# Valores iniciales\n",
        "x0 = 0.0\n",
        "x1 = 1.0\n",
        "x2 = 2.0\n",
        "tolerancia = 1e-5\n",
        "\n",
        "# Ejecución del método de Müller\n",
        "raiz = muller(f, x0, x1, x2, tol=tolerancia)\n",
        "\n",
        "# Verificar el resultado\n",
        "if raiz is not None:\n",
        "    resultado = f(raiz)\n",
        "    # Imprimir el resultado de la función en la raíz encontrada\n",
        "    print(f\"\\nResultado de la función en la raíz encontrada:\")\n",
        "    print(f\"f({raiz}) = {resultado:.10f} (indica lo cerca que está de ser una raíz)\")"
      ],
      "metadata": {
        "colab": {
          "base_uri": "https://localhost:8080/"
        },
        "id": "ix2w9XyxFqkG",
        "outputId": "8064a337-b182-4799-a7f4-259b833c9b7c"
      },
      "execution_count": 4,
      "outputs": [
        {
          "output_type": "stream",
          "name": "stdout",
          "text": [
            " Iteración            x2                 f(x2)              a            b            c          Error relativo   \n",
            "==================================================================================================================\n",
            "     1           2.0000000000        -1.0000000000      -1.000000    -3.000000    -1.000000       0.2360679775    \n",
            "     2           1.6180339887        -0.6180339887       1.618034    -1.618034    -0.618034       0.2229380580    \n",
            "     3           1.3230710895         0.1897226111       2.568220    -3.496032     0.189723       0.0410404579    \n",
            "     4           1.3796943785         0.0277996727       0.508309    -2.830870     0.027800       0.0070797672    \n",
            "     5           1.3895319411        -0.0004049169      -0.111007    -2.868122    -0.000405       0.0001016123    \n",
            "     6           1.3893907619        -0.0000002253       0.053578    -2.866518    -0.000000       0.0000000566    \n",
            "\n",
            "Solución encontrada:\n",
            "x = 1.3893906833, f(x) = 0.0000000000, error relativo = 0.0000000566\n",
            "\n",
            "Resultado de la función en la raíz encontrada:\n",
            "f(1.3893906833348384) = 0.0000000000 (indica lo cerca que está de ser una raíz)\n"
          ]
        }
      ]
    }
  ]
}