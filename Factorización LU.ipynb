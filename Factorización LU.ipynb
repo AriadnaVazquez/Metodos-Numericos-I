{
  "nbformat": 4,
  "nbformat_minor": 0,
  "metadata": {
    "colab": {
      "provenance": [],
      "authorship_tag": "ABX9TyM5ZEEUiufk8CBk8MjTbwFi",
      "include_colab_link": true
    },
    "kernelspec": {
      "name": "python3",
      "display_name": "Python 3"
    },
    "language_info": {
      "name": "python"
    }
  },
  "cells": [
    {
      "cell_type": "markdown",
      "metadata": {
        "id": "view-in-github",
        "colab_type": "text"
      },
      "source": [
        "<a href=\"https://colab.research.google.com/github/AriadnaVazquez/Metodos-Numericos-I/blob/main/Factorizaci%C3%B3n%20LU.ipynb\" target=\"_parent\"><img src=\"https://colab.research.google.com/assets/colab-badge.svg\" alt=\"Open In Colab\"/></a>"
      ]
    },
    {
      "cell_type": "code",
      "source": [
        "import numpy as np\n",
        "\n",
        "def factorizacion_LU(A):\n",
        "    \"\"\"\n",
        "    Implementa la factorización LU basada en el algoritmo 6.4.\n",
        "    Parámetros:\n",
        "        A (numpy.ndarray): Matriz cuadrada de tamaño n x n.\n",
        "    Retorna:\n",
        "        L (numpy.ndarray): Matriz triangular inferior.\n",
        "        U (numpy.ndarray): Matriz triangular superior.\n",
        "    Lanza:\n",
        "        ValueError: Si la factorización no es posible.\n",
        "    \"\"\"\n",
        "    n = A.shape[0]\n",
        "    L = np.eye(n)  # Inicializar L como identidad\n",
        "    U = np.zeros((n, n))  # Inicializar U como una matriz de ceros\n",
        "\n",
        "    for i in range(n):\n",
        "        # Paso 4: Seleccionar elementos de L y U para la diagonal\n",
        "        suma_diag = sum(L[i, k] * U[k, i] for k in range(i))\n",
        "        U[i, i] = A[i, i] - suma_diag\n",
        "\n",
        "        if U[i, i] == 0:\n",
        "            raise ValueError(\"Factorización imposible (diagonal cero en U).\")\n",
        "\n",
        "        for j in range(i + 1, n):\n",
        "            # Paso 5: Calcular elementos de la i-ésima fila de U\n",
        "            suma_u = sum(L[i, k] * U[k, j] for k in range(i))\n",
        "            U[i, j] = A[i, j] - suma_u\n",
        "\n",
        "            # Calcular elementos de la i-ésima columna de L\n",
        "            suma_l = sum(L[j, k] * U[k, i] for k in range(i))\n",
        "            L[j, i] = (A[j, i] - suma_l) / U[i, i]\n",
        "\n",
        "    return L, U\n",
        "\n",
        "# Matriz A\n",
        "A = np.array([\n",
        "    [1, 1, 0, 3],\n",
        "    [2, 1, -1, 1],\n",
        "    [3, -1, -1, 2],\n",
        "    [-1, 2, 3, -1]\n",
        "], dtype=float)\n",
        "\n",
        "# Factorización LU\n",
        "try:\n",
        "    L, U = factorizacion_LU(A)\n",
        "except ValueError as e:\n",
        "    print(\"Error:\", e)\n",
        "    L, U = None, None\n",
        "\n",
        "# Resultados\n",
        "print(\"Matriz L (triangular inferior):\")\n",
        "print(L)\n",
        "print(\"\\nMatriz U (triangular superior):\")\n",
        "print(U)"
      ],
      "metadata": {
        "colab": {
          "base_uri": "https://localhost:8080/"
        },
        "id": "0ar_oKU0NUkE",
        "outputId": "f0bcde0a-4c2c-4383-872e-2e55205ae4b8"
      },
      "execution_count": 3,
      "outputs": [
        {
          "output_type": "stream",
          "name": "stdout",
          "text": [
            "Matriz L (triangular inferior):\n",
            "[[ 1.  0.  0.  0.]\n",
            " [ 2.  1.  0.  0.]\n",
            " [ 3.  4.  1.  0.]\n",
            " [-1. -3.  0.  1.]]\n",
            "\n",
            "Matriz U (triangular superior):\n",
            "[[  1.   1.   0.   3.]\n",
            " [  0.  -1.  -1.  -5.]\n",
            " [  0.   0.   3.  13.]\n",
            " [  0.   0.   0. -13.]]\n"
          ]
        }
      ]
    }
  ]
}