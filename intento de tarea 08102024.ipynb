{
  "cells": [
    {
      "cell_type": "markdown",
      "metadata": {
        "id": "view-in-github",
        "colab_type": "text"
      },
      "source": [
        "<a href=\"https://colab.research.google.com/github/AriadnaVazquez/Metodos-Numericos-I/blob/main/intento%20de%20tarea%2008102024.ipynb\" target=\"_parent\"><img src=\"https://colab.research.google.com/assets/colab-badge.svg\" alt=\"Open In Colab\"/></a>"
      ]
    },
    {
      "cell_type": "code",
      "source": [
        "import math\n",
        "\n",
        "# Define la función f(x)\n",
        "def f(x):\n",
        "  \"\"\"\n",
        "  Función f(x) que se quiere resolver.\n",
        "\n",
        "  Args:\n",
        "    x: Valor de x para evaluar la función.\n",
        "\n",
        "  Returns:\n",
        "    El valor de f(x).\n",
        "  \"\"\"\n",
        "  return math.cos(x) - 2*x + 3\n",
        "\n",
        "# Define la función g(x) para el método de punto fijo\n",
        "def g(x):\n",
        "  \"\"\"\n",
        "  Función g(x) para el método de punto fijo.\n",
        "\n",
        "  Args:\n",
        "    x: Valor de x para evaluar la función.\n",
        "\n",
        "  Returns:\n",
        "    El valor de g(x).\n",
        "  \"\"\"\n",
        "  return (math.cos(x) + 3) / 2\n",
        "\n",
        "# Implementa el método de Steffensen\n",
        "def steffensen(x0, tol, max_iter):\n",
        "  \"\"\"\n",
        "  Resuelve una ecuación no lineal f(x) = 0 usando el método de Steffensen.\n",
        "\n",
        "  Args:\n",
        "    x0: La aproximación inicial de la raíz.\n",
        "    tol: La tolerancia para la convergencia.\n",
        "    max_iter: El número máximo de iteraciones.\n",
        "\n",
        "  Returns:\n",
        "    Una tupla que contiene la aproximación de la raíz y el número de iteraciones.\n",
        "  \"\"\"\n",
        "\n",
        "  n = 0  # Número de iteraciones\n",
        "  xn = x0  # Valor inicial de x\n",
        "  error = 100  # Inicializa error\n",
        "\n",
        "  # Encabezado de la tabla\n",
        "  print(\"n \\t\\t Xn \\t\\t Xn+1 \\t\\t deltaXn \\t\\t Error\")\n",
        "  print(\"0 \\t\\t {0:6.6f} \\t {1:6.6f} \\t{2:6.6f} \\t{3:6.6f}\".format(xn, g(xn), error, error))\n",
        "\n",
        "  while error > tol and n < max_iter:\n",
        "    n += 1\n",
        "    xn_1 = g(xn)  # Calcula Xn+1\n",
        "    xn_2 = g(xn_1)  # Calcula Xn+2\n",
        "    delta_xn = (xn_1 - xn)**2 / (xn_2 - 2*xn_1 + xn)  # Calcula deltaXn\n",
        "    error = abs(delta_xn)  # Actualiza error\n",
        "\n",
        "    # Imprime los valores de la iteración\n",
        "    print(\"{0}\\t\\t {1:6.6f} \\t {2:6.6f} \\t {3:6.6f} \\t {4:6.6f}\".format(n, round(xn, 4), round(xn_1, 4), delta_xn, error))\n",
        "\n",
        "    xn = xn - delta_xn  # Actualiza Xn al final del ciclo\n",
        "\n",
        "  return xn, n\n",
        "\n",
        "# Prueba del método de Steffensen\n",
        "x0 = 1  # Valor inicial de x\n",
        "tol = 0.00001  # Tolerancia\n",
        "max_iter = 100  # Número máximo de iteraciones\n",
        "\n",
        "# Encuentra la raíz usando el método de Steffensen\n",
        "root, iterations = steffensen(x0, tol, max_iter)\n",
        "\n",
        "# Imprime el resultado final\n",
        "print(\"\\nLa raíz de la función f(x) = cos(x) - 2x + 3 = 0 es: {0:6.6f}\".format(root))\n",
        "print(\"Número de iteraciones: {0}\".format(iterations))"
      ],
      "metadata": {
        "id": "RFQAiqPyWrZJ",
        "outputId": "54c2cb22-bcdc-49e9-864d-24af4384c056",
        "colab": {
          "base_uri": "https://localhost:8080/"
        }
      },
      "execution_count": 5,
      "outputs": [
        {
          "output_type": "stream",
          "name": "stdout",
          "text": [
            "n \t\t Xn \t\t Xn+1 \t\t deltaXn \t\t Error\n",
            "0 \t\t 1.000000 \t 1.770151 \t100.000000 \t100.000000\n",
            "1\t\t 1.000000 \t 1.770200 \t -0.520602 \t 0.520602\n",
            "2\t\t 1.520600 \t 1.525100 \t -0.002991 \t 0.002991\n",
            "3\t\t 1.523600 \t 1.523600 \t -0.000000 \t 0.000000\n",
            "\n",
            "La raíz de la función f(x) = cos(x) - 2x + 3 = 0 es: 1.523593\n",
            "Número de iteraciones: 3\n"
          ]
        }
      ]
    }
  ],
  "metadata": {
    "colab": {
      "name": "Te damos la bienvenida a Colaboratory",
      "toc_visible": true,
      "provenance": [],
      "include_colab_link": true
    },
    "kernelspec": {
      "display_name": "Python 3",
      "name": "python3"
    }
  },
  "nbformat": 4,
  "nbformat_minor": 0
}