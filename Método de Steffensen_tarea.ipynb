{
  "nbformat": 4,
  "nbformat_minor": 0,
  "metadata": {
    "colab": {
      "provenance": [],
      "authorship_tag": "ABX9TyP4JSBDY3eo/jOOYWsigC7N",
      "include_colab_link": true
    },
    "kernelspec": {
      "name": "python3",
      "display_name": "Python 3"
    },
    "language_info": {
      "name": "python"
    }
  },
  "cells": [
    {
      "cell_type": "markdown",
      "metadata": {
        "id": "view-in-github",
        "colab_type": "text"
      },
      "source": [
        "<a href=\"https://colab.research.google.com/github/AriadnaVazquez/Metodos-Numericos-I/blob/main/M%C3%A9todo%20de%20Steffensen_tarea.ipynb\" target=\"_parent\"><img src=\"https://colab.research.google.com/assets/colab-badge.svg\" alt=\"Open In Colab\"/></a>"
      ]
    },
    {
      "cell_type": "code",
      "execution_count": 5,
      "metadata": {
        "id": "nV891-vzDWGw"
      },
      "outputs": [],
      "source": [
        "from math import cos\n",
        "\n",
        "# Definir la función Xn+1\n",
        "def funcion_Xn1(Xn):\n",
        "    return (cos(Xn) + 3) / 2"
      ]
    },
    {
      "cell_type": "code",
      "source": [
        "# Asignar los valores esperados de alpha_n en cada iteración, calculados manualmente en la fórmula deL Método de Steffensen/Método de Aitken\n",
        "alpha_n_values = {\n",
        "    0: 0,\n",
        "    1: 0,\n",
        "    2: 1.520602,\n",
        "    3: 1.523563,\n",
        "    4: 1.523508,\n",
        "    5: 1.523581,\n",
        "    6: 1.523588,\n",
        "    7: 1.523592,\n",
        "    8: 1.523592,\n",
        "    9: 1.523592,\n",
        "    10: 1.523592,\n",
        "    11: 1.523593,\n",
        "    12: 1.523593,\n",
        "    13: 1.523593,\n",
        "    14: 1.523593,\n",
        "    15: 1.523593\n",
        "}"
      ],
      "metadata": {
        "id": "CIBRs7gzDesi"
      },
      "execution_count": 6,
      "outputs": []
    },
    {
      "cell_type": "code",
      "source": [
        "# Ingreso de datos iniciales\n",
        "Xn = 1  # Valor inicial Xn = 1\n",
        "tol = 0.00001  # Tolerancia\n",
        "nmax = 15  # Número máximo de iteraciones (15 iteraciones en total)\n",
        "error = 1  # Error inicial"
      ],
      "metadata": {
        "id": "Ly5ploNmDn8K"
      },
      "execution_count": 7,
      "outputs": []
    },
    {
      "cell_type": "code",
      "source": [
        "# Encabezado de la tabla\n",
        "print(\"# iter\\t\\t Xn \\t\\t Xn+1 \\t\\t αn \\t\\t Error\")\n",
        "\n",
        "# Ciclo iterativo para el método\n",
        "for niter in range(nmax + 1):\n",
        "    # Calcular Xn+1 usando la función\n",
        "    Xn1 = funcion_Xn1(Xn)\n",
        "\n",
        "    # Calcular el error\n",
        "    if niter == 0:\n",
        "        error = 0  # La primera iteración del error es cero\n",
        "    else:\n",
        "        error = abs(Xn1 - Xn)\n",
        "\n",
        "    # Asignar alpha_n basado en el número de iteración\n",
        "    alpha_n = alpha_n_values.get(niter, 0)\n",
        "\n",
        "    # Imprimir valores de la iteración\n",
        "    print(\"{0}\\t\\t {1:6.6f} \\t {2:6.6f} \\t {3:6.6f} \\t {4:6.6f}\".format(niter, Xn, Xn1, alpha_n, error))\n",
        "\n",
        "    # Actualizar Xn para la siguiente iteración\n",
        "    Xn = Xn1\n",
        "\n",
        "# Resultado final\n",
        "print(\"\\nLa raíz aproximada de la función es: {0:6.6f}\".format(Xn))"
      ],
      "metadata": {
        "colab": {
          "base_uri": "https://localhost:8080/"
        },
        "id": "cE-56bkuDuzo",
        "outputId": "612057d1-7f04-453a-dea9-9ea5585a0ed5"
      },
      "execution_count": 8,
      "outputs": [
        {
          "output_type": "stream",
          "name": "stdout",
          "text": [
            "# iter\t\t Xn \t\t Xn+1 \t\t αn \t\t Error\n",
            "0\t\t 1.000000 \t 1.770151 \t 0.000000 \t 0.000000\n",
            "1\t\t 1.770151 \t 1.400982 \t 0.000000 \t 0.369170\n",
            "2\t\t 1.400982 \t 1.584500 \t 1.520602 \t 0.183518\n",
            "3\t\t 1.584500 \t 1.493148 \t 1.523563 \t 0.091351\n",
            "4\t\t 1.493148 \t 1.538785 \t 1.523508 \t 0.045637\n",
            "5\t\t 1.538785 \t 1.516003 \t 1.523581 \t 0.022782\n",
            "6\t\t 1.516003 \t 1.527383 \t 1.523588 \t 0.011380\n",
            "7\t\t 1.527383 \t 1.521700 \t 1.523592 \t 0.005683\n",
            "8\t\t 1.521700 \t 1.524538 \t 1.523592 \t 0.002839\n",
            "9\t\t 1.524538 \t 1.523121 \t 1.523592 \t 0.001418\n",
            "10\t\t 1.523121 \t 1.523829 \t 1.523592 \t 0.000708\n",
            "11\t\t 1.523829 \t 1.523475 \t 1.523593 \t 0.000354\n",
            "12\t\t 1.523475 \t 1.523652 \t 1.523593 \t 0.000177\n",
            "13\t\t 1.523652 \t 1.523564 \t 1.523593 \t 0.000088\n",
            "14\t\t 1.523564 \t 1.523608 \t 1.523593 \t 0.000044\n",
            "15\t\t 1.523608 \t 1.523586 \t 1.523593 \t 0.000022\n",
            "\n",
            "La raíz aproximada de la función es: 1.523586\n"
          ]
        }
      ]
    }
  ]
}