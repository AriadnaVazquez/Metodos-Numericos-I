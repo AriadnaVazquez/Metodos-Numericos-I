{
  "nbformat": 4,
  "nbformat_minor": 0,
  "metadata": {
    "colab": {
      "provenance": [],
      "authorship_tag": "ABX9TyN1D4nImeRrOGQECmFjJXJE",
      "include_colab_link": true
    },
    "kernelspec": {
      "name": "python3",
      "display_name": "Python 3"
    },
    "language_info": {
      "name": "python"
    }
  },
  "cells": [
    {
      "cell_type": "markdown",
      "metadata": {
        "id": "view-in-github",
        "colab_type": "text"
      },
      "source": [
        "<a href=\"https://colab.research.google.com/github/AriadnaVazquez/Metodos-Numericos-I/blob/main/Polinomio%20de%20Lagrange%20por%20el%20m%C3%A9todo%20de%20Neville.ipynb\" target=\"_parent\"><img src=\"https://colab.research.google.com/assets/colab-badge.svg\" alt=\"Open In Colab\"/></a>"
      ]
    },
    {
      "cell_type": "code",
      "source": [
        "def metodo_neville(x, xi, fi):\n",
        "    # Número de puntos\n",
        "    n = len(xi)\n",
        "\n",
        "    # Crear una tabla vacía para los cálculos (n x n)\n",
        "    Q = [[0] * n for _ in range(n)]\n",
        "\n",
        "    # Poner los valores iniciales (f(xi)) en la primera columna\n",
        "    for i in range(n):\n",
        "        Q[i][0] = fi[i]\n",
        "\n",
        "    # Llenar la tabla usando la fórmula del método de Neville\n",
        "    for i in range(1, n):  # Empieza desde la segunda fila\n",
        "        for j in range(1, i + 1):  # Se llena hasta la diagonal correspondiente\n",
        "            Q[i][j] = ((x - xi[i - j]) * Q[i][j - 1] - (x - xi[i]) * Q[i - 1][j - 1]) / (xi[i] - xi[i - j])\n",
        "\n",
        "    # Redondear los resultados a 7 cifras decimales\n",
        "    for i in range(n):\n",
        "        for j in range(i + 1):\n",
        "            Q[i][j] = round(Q[i][j], 7)\n",
        "\n",
        "    # El valor interpolado está en la última posición de la diagonal\n",
        "    return Q[n - 1][n - 1], Q\n",
        "\n",
        "# Ejemplo: tabla de datos para probar el método\n",
        "xi = [1.0, 1.3, 1.6, 1.9, 2.2]  # Valores de x\n",
        "fi = [0.7651977, 0.6200860, 0.4554022, 0.2818186, 0.1103623]  # Valores de f(x)\n",
        "x = 1.5  # El valor donde queremos interpolar\n",
        "\n",
        "# Nombrar a la función para calcular\n",
        "P, Q = metodo_neville(x, xi, fi)\n",
        "\n",
        "# Mostrar los resultados\n",
        "print(f\"El valor aproximado es P({x}) = {P}\")\n",
        "print(\"Tabla de Neville:\")\n",
        "for fila in Q:\n",
        "    print(fila)"
      ],
      "metadata": {
        "colab": {
          "base_uri": "https://localhost:8080/"
        },
        "id": "T-wdRUYs42s8",
        "outputId": "e3071ad6-c663-4a7a-c50d-868ff8ff2079"
      },
      "execution_count": 8,
      "outputs": [
        {
          "output_type": "stream",
          "name": "stdout",
          "text": [
            "El valor aproximado es P(1.5) = 0.51182\n",
            "Tabla de Neville:\n",
            "[0.7651977, 0, 0, 0, 0]\n",
            "[0.620086, 0.5233449, 0, 0, 0]\n",
            "[0.4554022, 0.5102968, 0.5124715, 0, 0]\n",
            "[0.2818186, 0.5132634, 0.5112857, 0.5118127, 0]\n",
            "[0.1103623, 0.510427, 0.5137361, 0.5118302, 0.51182]\n"
          ]
        }
      ]
    }
  ]
}