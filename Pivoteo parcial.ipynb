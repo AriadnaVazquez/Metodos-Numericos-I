{
  "nbformat": 4,
  "nbformat_minor": 0,
  "metadata": {
    "colab": {
      "provenance": [],
      "authorship_tag": "ABX9TyNS6y1mhFYaG6MZJSZ9FhkS",
      "include_colab_link": true
    },
    "kernelspec": {
      "name": "python3",
      "display_name": "Python 3"
    },
    "language_info": {
      "name": "python"
    }
  },
  "cells": [
    {
      "cell_type": "markdown",
      "metadata": {
        "id": "view-in-github",
        "colab_type": "text"
      },
      "source": [
        "<a href=\"https://colab.research.google.com/github/AriadnaVazquez/Metodos-Numericos-I/blob/main/Pivoteo%20parcial.ipynb\" target=\"_parent\"><img src=\"https://colab.research.google.com/assets/colab-badge.svg\" alt=\"Open In Colab\"/></a>"
      ]
    },
    {
      "cell_type": "code",
      "execution_count": 2,
      "metadata": {
        "colab": {
          "base_uri": "https://localhost:8080/"
        },
        "id": "dAAWhieSMh4N",
        "outputId": "060bddf0-6fe1-4c9a-a612-ff918b93a060"
      },
      "outputs": [
        {
          "output_type": "stream",
          "name": "stdout",
          "text": [
            "Solución aproximada: [10.  1.]\n",
            "Solución exacta: [10.0, 1.0]\n",
            "Errores:\n",
            "Errores absolutos: [0.0, 0.0]\n"
          ]
        }
      ],
      "source": [
        "import numpy as np\n",
        "\n",
        "def gauss_pivoteo_parcial(A, b):\n",
        "    \"\"\"\n",
        "    Resuelve un sistema de ecuaciones lineales Ax = b utilizando el método\n",
        "    de eliminación gaussiana con pivoteo parcial y aritmética de 4 dígitos con redondeo.\n",
        "\n",
        "    Parámetros:\n",
        "        A : Matriz de coeficientes del sistema.\n",
        "        b : Vector de términos independientes.\n",
        "\n",
        "    Retorna:\n",
        "        x (numpy array): Solución del sistema Ax = b.\n",
        "    \"\"\"\n",
        "    def redondear_4_digitos(valor):\n",
        "        \"\"\"Redondea un valor a 4 dígitos significativos.\"\"\"\n",
        "        if valor != 0:\n",
        "            return float(f\"{valor:.4g}\")\n",
        "        else:\n",
        "            return 0.0\n",
        "\n",
        "    # Convertimos A y b a numpy arrays y los redondeamos\n",
        "    n = len(b)  # número de ecuaciones/variables\n",
        "    A = np.array(A, dtype=float)\n",
        "    b = np.array(b, dtype=float)\n",
        "\n",
        "    # Redondeo inicial de la matriz y el vector b\n",
        "    for i in range(n):\n",
        "        for j in range(n):\n",
        "            A[i][j] = redondear_4_digitos(A[i][j])\n",
        "        b[i] = redondear_4_digitos(b[i])\n",
        "\n",
        "    # Inicializamos el indicador de fila\n",
        "    NROW = list(range(n))\n",
        "\n",
        "    # Proceso de eliminación\n",
        "    for i in range(n - 1):\n",
        "        # Paso 3: Selección del pivote\n",
        "        max_pivote = 0\n",
        "        p = i\n",
        "        for k in range(i, n):\n",
        "            valor = abs(A[NROW[k]][i])\n",
        "            if valor > max_pivote:\n",
        "                max_pivote = valor\n",
        "                p = k\n",
        "\n",
        "        # Paso 4: Verificar si el pivote es cero (no hay solución única)\n",
        "        if max_pivote == 0:\n",
        "            print(\"No existe solución única.\")\n",
        "            return None\n",
        "\n",
        "        # Paso 5: Intercambio de filas simulado\n",
        "        if NROW[i] != NROW[p]:\n",
        "            NROW[i], NROW[p] = NROW[p], NROW[i]\n",
        "\n",
        "        # Paso 6: Eliminación\n",
        "        for j in range(i + 1, n):\n",
        "            multiplicador = redondear_4_digitos(A[NROW[j]][i] / A[NROW[i]][i])\n",
        "            for k in range(i, n):\n",
        "                A[NROW[j]][k] = redondear_4_digitos(A[NROW[j]][k] - multiplicador * A[NROW[i]][k])\n",
        "            b[NROW[j]] = redondear_4_digitos(b[NROW[j]] - multiplicador * b[NROW[i]])\n",
        "\n",
        "    # Verificar si la última ecuación tiene pivote cero\n",
        "    if A[NROW[n-1]][n-1] == 0:\n",
        "        print(\"No existe solución única.\")\n",
        "        return None\n",
        "\n",
        "    # Sustitución hacia atrás\n",
        "    x = np.zeros(n)\n",
        "    x[n-1] = redondear_4_digitos(b[NROW[n-1]] / A[NROW[n-1]][n-1])\n",
        "    for i in range(n-2, -1, -1):\n",
        "        suma = sum(A[NROW[i]][j] * x[j] for j in range(i+1, n))\n",
        "        x[i] = redondear_4_digitos((b[NROW[i]] - suma) / A[NROW[i]][i])\n",
        "\n",
        "    return x\n",
        "\n",
        "\n",
        "# Datos del problema\n",
        "A = [\n",
        "    [0.003, 59.14],\n",
        "    [5.291, -6.13]\n",
        "]\n",
        "b = [59.17, 46.78]\n",
        "\n",
        "# Solución con eliminación gaussiana\n",
        "solucion = gauss_pivoteo_parcial(A, b)\n",
        "\n",
        "# Solución exacta para comparación\n",
        "solucion_exacta = [10.00, 1.000]\n",
        "\n",
        "# Imprimir resultados\n",
        "if solucion is not None:\n",
        "    print(\"Solución aproximada:\", solucion)\n",
        "    print(\"Solución exacta:\", solucion_exacta)\n",
        "    print(\"Errores:\")\n",
        "    errores = [abs(solucion[i] - solucion_exacta[i]) for i in range(len(solucion))]\n",
        "    print(\"Errores absolutos:\", errores)"
      ]
    }
  ]
}