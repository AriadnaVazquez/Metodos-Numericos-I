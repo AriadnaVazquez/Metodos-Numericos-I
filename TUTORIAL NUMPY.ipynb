{
  "nbformat": 4,
  "nbformat_minor": 0,
  "metadata": {
    "colab": {
      "provenance": [],
      "authorship_tag": "ABX9TyO2E9sjpbDu2SBGHZFtST6s",
      "include_colab_link": true
    },
    "kernelspec": {
      "name": "python3",
      "display_name": "Python 3"
    },
    "language_info": {
      "name": "python"
    }
  },
  "cells": [
    {
      "cell_type": "markdown",
      "metadata": {
        "id": "view-in-github",
        "colab_type": "text"
      },
      "source": [
        "<a href=\"https://colab.research.google.com/github/AriadnaVazquez/Metodos-Numericos-I/blob/main/TUTORIAL%20NUMPY.ipynb\" target=\"_parent\"><img src=\"https://colab.research.google.com/assets/colab-badge.svg\" alt=\"Open In Colab\"/></a>"
      ]
    },
    {
      "cell_type": "markdown",
      "source": [
        "# Introducción a NumPy\n",
        "\n",
        "¿Qué es NumPy?\n",
        "\n",
        "NumPy es una biblioteca de Python diseñada para realizar cálculos matemáticos rápidos y eficientes. Está optimizada para trabajar con grandes volúmenes de datos y operaciones avanzadas.\n",
        "\n",
        "¿Por qué usar NumPy?\n",
        "\n",
        "NumPy es significativamente más rápido que las listas de Python para operaciones matemáticas. Además, permite realizar cálculos simultáneamente sobre múltiples elementos de un array, mejorando la eficiencia.\n"
      ],
      "metadata": {
        "id": "SwvibaR4APLT"
      }
    },
    {
      "cell_type": "markdown",
      "source": [],
      "metadata": {
        "id": "u7hLterBHyxo"
      }
    },
    {
      "cell_type": "markdown",
      "source": [
        "Instalación\n",
        "Puedes hacerlo fácilmente ejecutando el siguiente comando en tu terminal o en una celda de tu entorno de trabajo:\n"
      ],
      "metadata": {
        "id": "FboqH_ZyAmqq"
      }
    },
    {
      "cell_type": "code",
      "source": [
        "!pip install numpy"
      ],
      "metadata": {
        "colab": {
          "base_uri": "https://localhost:8080/"
        },
        "id": "hG2idGfZAuti",
        "outputId": "eefb0494-2241-427b-c70e-99dab9d6e48f"
      },
      "execution_count": 2,
      "outputs": [
        {
          "output_type": "stream",
          "name": "stdout",
          "text": [
            "Requirement already satisfied: numpy in /usr/local/lib/python3.10/dist-packages (1.26.4)\n"
          ]
        }
      ]
    },
    {
      "cell_type": "markdown",
      "source": [
        "# Importar NumPy\n",
        "\n",
        "El primer paso en cualquier proyecto que use NumPy es importar la biblioteca:"
      ],
      "metadata": {
        "id": "5S_IWCRjA5ZD"
      }
    },
    {
      "cell_type": "code",
      "source": [
        "import numpy as np"
      ],
      "metadata": {
        "id": "S7FMY-VEA8j6"
      },
      "execution_count": 3,
      "outputs": []
    },
    {
      "cell_type": "markdown",
      "source": [
        "Algunas de las caracteríticas de NumPy son:\n",
        "\n",
        "\n",
        "\n",
        "*   Arrays multidimensionales: son estructuras de datos que pueden almacenar valores numéricos en una o múltiples dimensiones Algunos ejemplo son los vectores, matrices y tensores.\n",
        "*   Operaciones rápidas y eficientes: permite realizar operaciones matemáticas de manera mucho más rápida que con listas de Python.\n",
        "*   Funciones matemáticas: incluye funciones para realizar operaciones matemáticas complejas como álgebra lineal, estadísticas, transformadas de Fourier, etc.\n",
        "*   Compatibilidad con librerías científicas: se utiliza en bibliotecas como Pandas, SciPy, y TensorFlow."
      ],
      "metadata": {
        "id": "gEpRvemvKC7l"
      }
    },
    {
      "cell_type": "markdown",
      "source": [
        "Algunas funciones clave dentro de la librería NumPy son:"
      ],
      "metadata": {
        "id": "NtIw6QQxKWY_"
      }
    },
    {
      "cell_type": "markdown",
      "source": [
        "*  Función arange: genera un array con un rango de valores, similar a la función range de Python."
      ],
      "metadata": {
        "id": "-1qAETfALIjW"
      }
    },
    {
      "cell_type": "code",
      "source": [
        "array_range = np.arange(0, 10, 2)  # Del 0 al 10 con paso de 2\n",
        "print(\"Array con arange:\", array_range)"
      ],
      "metadata": {
        "colab": {
          "base_uri": "https://localhost:8080/"
        },
        "id": "Da22zxacKyIk",
        "outputId": "ffc8547f-493e-4341-c73e-6adb259c8f71"
      },
      "execution_count": 33,
      "outputs": [
        {
          "output_type": "stream",
          "name": "stdout",
          "text": [
            "Array con arange: [0 2 4 6 8]\n"
          ]
        }
      ]
    },
    {
      "cell_type": "markdown",
      "source": [
        "*    Función linspace: genera valores igualmente espaciados entre un inicio y un final."
      ],
      "metadata": {
        "id": "UjArJAobK0Cc"
      }
    },
    {
      "cell_type": "code",
      "source": [
        "array_linspace = np.linspace(0, 5, 10)  # 10 valores entre 0 y 5\n",
        "print(\"Array con linspace:\", array_linspace)"
      ],
      "metadata": {
        "colab": {
          "base_uri": "https://localhost:8080/"
        },
        "id": "6vM__yk3K3Xs",
        "outputId": "6dc6bf1a-072b-4ff5-863c-9ab6baf7d60d"
      },
      "execution_count": 34,
      "outputs": [
        {
          "output_type": "stream",
          "name": "stdout",
          "text": [
            "Array con linspace: [0.         0.55555556 1.11111111 1.66666667 2.22222222 2.77777778\n",
            " 3.33333333 3.88888889 4.44444444 5.        ]\n"
          ]
        }
      ]
    },
    {
      "cell_type": "markdown",
      "source": [
        "# Creación de Arrays\n",
        "\n",
        "¿Qué es un array?\n",
        "\n",
        "Un array es una estructura de datos que almacena elementos del mismo tipo. En NumPy, los arrays son el núcleo de la biblioteca y se comportan de manera similar a las listas, pero con un rendimiento mucho mayor.\n"
      ],
      "metadata": {
        "id": "6QKkOhNxA_O6"
      }
    },
    {
      "cell_type": "markdown",
      "source": [
        "## Creación de un array 1D:"
      ],
      "metadata": {
        "id": "ZqJA_5N6BGSK"
      }
    },
    {
      "cell_type": "code",
      "source": [
        "arr = np.array([1, 2, 3, 4, 5])\n",
        "print(arr)"
      ],
      "metadata": {
        "colab": {
          "base_uri": "https://localhost:8080/"
        },
        "id": "6HlLrW6vBIux",
        "outputId": "b26a5f03-8318-4865-a42c-7e3a3e4b1684"
      },
      "execution_count": 4,
      "outputs": [
        {
          "output_type": "stream",
          "name": "stdout",
          "text": [
            "[1 2 3 4 5]\n"
          ]
        }
      ]
    },
    {
      "cell_type": "markdown",
      "source": [
        "## Creación de arrays multidimensionales:"
      ],
      "metadata": {
        "id": "0rMJadGhBOJR"
      }
    },
    {
      "cell_type": "code",
      "source": [
        "# Array 2D (matriz)\n",
        "arr_2d = np.array([[1, 2, 3], [4, 5, 6]])\n",
        "print(arr_2d)\n",
        "\n",
        "# Array 3D\n",
        "arr_3d = np.array([[[1, 2], [3, 4]], [[5, 6], [7, 8]]])\n",
        "print(arr_3d)"
      ],
      "metadata": {
        "colab": {
          "base_uri": "https://localhost:8080/"
        },
        "id": "1UP6qPrfBQ3B",
        "outputId": "3cb31bc5-f2b1-472d-97f7-5437b5fb857f"
      },
      "execution_count": 5,
      "outputs": [
        {
          "output_type": "stream",
          "name": "stdout",
          "text": [
            "[[1 2 3]\n",
            " [4 5 6]]\n",
            "[[[1 2]\n",
            "  [3 4]]\n",
            "\n",
            " [[5 6]\n",
            "  [7 8]]]\n"
          ]
        }
      ]
    },
    {
      "cell_type": "markdown",
      "source": [
        "## Funciones Básicas para Crear Arrays\n",
        "\n",
        "NumPy incluye varias funciones útiles para crear arrays automáticamente."
      ],
      "metadata": {
        "id": "cEEpP_GJBanx"
      }
    },
    {
      "cell_type": "code",
      "source": [
        "zeros = np.zeros((2, 3))  # Array de ceros\n",
        "ones = np.ones((2, 3))    # Array de unos\n",
        "full = np.full((2, 3), 7) # Array con un valor constante\n",
        "eye = np.eye(3)           # Matriz identidad\n",
        "random_arr = np.random.random((2, 2))  # Array de valores aleatorios\n",
        "\n",
        "print(\"Zeros:\\n\", zeros)\n",
        "print(\"Ones:\\n\", ones)\n",
        "print(\"Full:\\n\", full)\n",
        "print(\"Matriz identidad:\\n\", eye)\n",
        "print(\"Array aleatorio:\\n\", random_arr)"
      ],
      "metadata": {
        "colab": {
          "base_uri": "https://localhost:8080/"
        },
        "id": "noozWK1EBd_J",
        "outputId": "d8fd01a3-2473-4b13-fb4e-45470a8492bb"
      },
      "execution_count": 6,
      "outputs": [
        {
          "output_type": "stream",
          "name": "stdout",
          "text": [
            "Zeros:\n",
            " [[0. 0. 0.]\n",
            " [0. 0. 0.]]\n",
            "Ones:\n",
            " [[1. 1. 1.]\n",
            " [1. 1. 1.]]\n",
            "Full:\n",
            " [[7 7 7]\n",
            " [7 7 7]]\n",
            "Matriz identidad:\n",
            " [[1. 0. 0.]\n",
            " [0. 1. 0.]\n",
            " [0. 0. 1.]]\n",
            "Array aleatorio:\n",
            " [[0.92118639 0.84091598]\n",
            " [0.10314775 0.24905563]]\n"
          ]
        }
      ]
    },
    {
      "cell_type": "markdown",
      "source": [
        "## Operaciones Básicas con Arrays\n",
        "\n",
        "Los arrays de NumPy permiten realizar operaciones matemáticas de manera rápida y eficiente."
      ],
      "metadata": {
        "id": "3CVrew0gBg0Z"
      }
    },
    {
      "cell_type": "code",
      "source": [
        "arr1 = np.array([1, 2, 3])\n",
        "arr2 = np.array([4, 5, 6])\n",
        "\n",
        "suma = arr1 + arr2\n",
        "resta = arr1 - arr2\n",
        "multiplicacion = arr1 * arr2\n",
        "division = arr1 / arr2\n",
        "\n",
        "print(\"Suma:\", suma)\n",
        "print(\"Resta:\", resta)\n",
        "print(\"Multiplicación:\", multiplicacion)\n",
        "print(\"División:\", division)"
      ],
      "metadata": {
        "colab": {
          "base_uri": "https://localhost:8080/"
        },
        "id": "Bc3_r5mSBi9R",
        "outputId": "564f659e-9fde-4d19-cf6a-d839600dace8"
      },
      "execution_count": 7,
      "outputs": [
        {
          "output_type": "stream",
          "name": "stdout",
          "text": [
            "Suma: [5 7 9]\n",
            "Resta: [-3 -3 -3]\n",
            "Multiplicación: [ 4 10 18]\n",
            "División: [0.25 0.4  0.5 ]\n"
          ]
        }
      ]
    },
    {
      "cell_type": "markdown",
      "source": [
        "# Funciones Matemáticas en NumPy\n",
        "\n",
        "NumPy incluye una variedad de funciones matemáticas útiles."
      ],
      "metadata": {
        "id": "ts-IjZzUBlv5"
      }
    },
    {
      "cell_type": "code",
      "source": [
        "arr = np.array([1, 2, 3, 4, 5])\n",
        "\n",
        "print(\"Suma:\", np.sum(arr))\n",
        "print(\"Promedio:\", np.mean(arr))\n",
        "print(\"Máximo:\", np.max(arr))\n",
        "print(\"Raíz cuadrada:\", np.sqrt(arr))\n",
        "print(\"Potencia (elementos al cuadrado):\", np.power(arr, 2))"
      ],
      "metadata": {
        "colab": {
          "base_uri": "https://localhost:8080/"
        },
        "id": "EgwTCzB1BoTp",
        "outputId": "d46ea383-69c5-4807-9cd7-784b582cb358"
      },
      "execution_count": 8,
      "outputs": [
        {
          "output_type": "stream",
          "name": "stdout",
          "text": [
            "Suma: 15\n",
            "Promedio: 3.0\n",
            "Máximo: 5\n",
            "Raíz cuadrada: [1.         1.41421356 1.73205081 2.         2.23606798]\n",
            "Potencia (elementos al cuadrado): [ 1  4  9 16 25]\n"
          ]
        }
      ]
    },
    {
      "cell_type": "markdown",
      "source": [
        "## Indexación y Slicing en Arrays\n",
        "\n",
        "Puedes acceder a elementos específicos o seleccionar partes de un array utilizando índices y slicing."
      ],
      "metadata": {
        "id": "XKP7NAEmBqwa"
      }
    },
    {
      "cell_type": "code",
      "source": [
        "arr = np.array([10, 20, 30, 40, 50])\n",
        "\n",
        "print(\"Elemento en la posición 1:\", arr[1])\n",
        "print(\"Último elemento:\", arr[-1])\n",
        "print(\"Slicing (del índice 1 al 3):\", arr[1:4])"
      ],
      "metadata": {
        "colab": {
          "base_uri": "https://localhost:8080/"
        },
        "id": "zAh9HhfdB7s_",
        "outputId": "0a7d87d9-6901-4791-bf8c-ba340e018f0c"
      },
      "execution_count": 9,
      "outputs": [
        {
          "output_type": "stream",
          "name": "stdout",
          "text": [
            "Elemento en la posición 1: 20\n",
            "Último elemento: 50\n",
            "Slicing (del índice 1 al 3): [20 30 40]\n"
          ]
        }
      ]
    },
    {
      "cell_type": "markdown",
      "source": [
        "## Modificación de la Forma de un Array\n",
        "\n",
        "NumPy permite cambiar la forma de un array sin alterar sus datos."
      ],
      "metadata": {
        "id": "X3Ay2BVzB-b_"
      }
    },
    {
      "cell_type": "code",
      "source": [
        "arr = np.array([1, 2, 3, 4, 5, 6])\n",
        "arr_reshaped = arr.reshape(2, 3)\n",
        "\n",
        "print(\"Array original:\", arr)\n",
        "print(\"Array reshaped (2x3):\\n\", arr_reshaped)"
      ],
      "metadata": {
        "colab": {
          "base_uri": "https://localhost:8080/"
        },
        "id": "O7iPXuHgCBxY",
        "outputId": "a740ec2a-17b3-47f2-cb78-4a44507a7e43"
      },
      "execution_count": 10,
      "outputs": [
        {
          "output_type": "stream",
          "name": "stdout",
          "text": [
            "Array original: [1 2 3 4 5 6]\n",
            "Array reshaped (2x3):\n",
            " [[1 2 3]\n",
            " [4 5 6]]\n"
          ]
        }
      ]
    },
    {
      "cell_type": "markdown",
      "source": [
        "## Tabla de Potencias\n",
        "\n",
        "Puedes generar tablas matemáticas, como potencias, usando arrays y broadcasting."
      ],
      "metadata": {
        "id": "FqJuxMEOCEbo"
      }
    },
    {
      "cell_type": "code",
      "source": [
        "base = np.arange(1, 6)  # Números del 1 al 5\n",
        "potencias = np.array([np.power(base, i) for i in range(1, 6)])\n",
        "\n",
        "print(\"Tabla de potencias:\\n\", potencias)"
      ],
      "metadata": {
        "colab": {
          "base_uri": "https://localhost:8080/"
        },
        "id": "rDue90L7CHK4",
        "outputId": "b7fa6c4d-78a0-4913-a9dd-6b838668e5ce"
      },
      "execution_count": 11,
      "outputs": [
        {
          "output_type": "stream",
          "name": "stdout",
          "text": [
            "Tabla de potencias:\n",
            " [[   1    2    3    4    5]\n",
            " [   1    4    9   16   25]\n",
            " [   1    8   27   64  125]\n",
            " [   1   16   81  256  625]\n",
            " [   1   32  243 1024 3125]]\n"
          ]
        }
      ]
    },
    {
      "cell_type": "markdown",
      "source": [
        "## Álgebra Lineal con NumPy\n",
        "\n",
        "NumPy incluye funciones para realizar operaciones avanzadas de álgebra lineal."
      ],
      "metadata": {
        "id": "98guUhxqCJfQ"
      }
    },
    {
      "cell_type": "code",
      "source": [
        "# Producto punto\n",
        "a = np.array([1, 2])\n",
        "b = np.array([3, 4])\n",
        "print(\"Producto punto:\", np.dot(a, b))\n",
        "\n",
        "# Multiplicación de matrices\n",
        "A = np.array([[1, 2], [3, 4]])\n",
        "B = np.array([[5, 6], [7, 8]])\n",
        "print(\"Multiplicación de matrices:\\n\", np.dot(A, B))\n",
        "\n",
        "# Transposición\n",
        "print(\"Transposición de A:\\n\", A.T)"
      ],
      "metadata": {
        "colab": {
          "base_uri": "https://localhost:8080/"
        },
        "id": "Jdn7Q10MCLo4",
        "outputId": "6b203fbf-33ba-4d6c-ee1a-07755d942d8b"
      },
      "execution_count": 12,
      "outputs": [
        {
          "output_type": "stream",
          "name": "stdout",
          "text": [
            "Producto punto: 11\n",
            "Multiplicación de matrices:\n",
            " [[19 22]\n",
            " [43 50]]\n",
            "Transposición de A:\n",
            " [[1 3]\n",
            " [2 4]]\n"
          ]
        }
      ]
    },
    {
      "cell_type": "markdown",
      "source": [
        "## Filtrado de Arrays\n",
        "\n",
        "Puedes seleccionar elementos que cumplan con una condición específica."
      ],
      "metadata": {
        "id": "V7rUBwWqCOQo"
      }
    },
    {
      "cell_type": "code",
      "source": [
        "arr = np.array([10, 20, 30, 40, 50])\n",
        "print(\"Elementos mayores a 30:\", arr[arr > 30])"
      ],
      "metadata": {
        "colab": {
          "base_uri": "https://localhost:8080/"
        },
        "id": "K6fmvZiBCVAY",
        "outputId": "a126456f-644c-4205-8406-ae4557a9b98f"
      },
      "execution_count": 13,
      "outputs": [
        {
          "output_type": "stream",
          "name": "stdout",
          "text": [
            "Elementos mayores a 30: [40 50]\n"
          ]
        }
      ]
    },
    {
      "cell_type": "markdown",
      "source": [
        "La interpolación se utiliza para estimar valores entre puntos conocidos en un conjunto de datos. NumPy no tiene una función directa para interpolar, pero podemos usar numpy.interp para interpolación lineal y SciPy para métodos más avanzados, como polinomios de interpolación."
      ],
      "metadata": {
        "id": "3FbKatCRGq6J"
      }
    },
    {
      "cell_type": "markdown",
      "source": [
        "# Interpolación en NumPy y SciPy\n",
        "La interpolación permite estimar valores entre puntos conocidos"
      ],
      "metadata": {
        "id": "tQp-1mgSEYCV"
      }
    },
    {
      "cell_type": "markdown",
      "source": [
        "\n",
        "## Interpolación Lineal con NumPy\n",
        "La función numpy.interp realiza interpolación lineal:"
      ],
      "metadata": {
        "id": "XFl3OGi-EpMM"
      }
    },
    {
      "cell_type": "code",
      "source": [
        "x = np.array([0, 1, 2, 3, 4, 5])\n",
        "y = np.array([0, 1, 4, 9, 16, 25])\n",
        "\n",
        "x_new = np.linspace(0, 5, 50)  # Nuevos puntos para interpolar\n",
        "y_new = np.interp(x_new, x, y)\n",
        "\n",
        "print(\"Valores interpolados:\", y_new)"
      ],
      "metadata": {
        "colab": {
          "base_uri": "https://localhost:8080/"
        },
        "id": "MfPgSshtEroF",
        "outputId": "803d4160-730a-47bd-eb85-0a9f19ce1a9d"
      },
      "execution_count": 14,
      "outputs": [
        {
          "output_type": "stream",
          "name": "stdout",
          "text": [
            "Valores interpolados: [ 0.          0.10204082  0.20408163  0.30612245  0.40816327  0.51020408\n",
            "  0.6122449   0.71428571  0.81632653  0.91836735  1.06122449  1.36734694\n",
            "  1.67346939  1.97959184  2.28571429  2.59183673  2.89795918  3.20408163\n",
            "  3.51020408  3.81632653  4.20408163  4.71428571  5.2244898   5.73469388\n",
            "  6.24489796  6.75510204  7.26530612  7.7755102   8.28571429  8.79591837\n",
            "  9.42857143 10.14285714 10.85714286 11.57142857 12.28571429 13.\n",
            " 13.71428571 14.42857143 15.14285714 15.85714286 16.73469388 17.65306122\n",
            " 18.57142857 19.48979592 20.40816327 21.32653061 22.24489796 23.16326531\n",
            " 24.08163265 25.        ]\n"
          ]
        }
      ]
    },
    {
      "cell_type": "markdown",
      "source": [
        "## Interpolación con SciPy\n",
        "\n",
        "El paquete SciPy ofrece herramientas avanzadas de interpolación, como polinomios de interpolación. Necesitarás instalar SciPy si aún no lo tienes:"
      ],
      "metadata": {
        "id": "i4vDeEdTHigo"
      }
    },
    {
      "cell_type": "code",
      "source": [
        "pip install scipy"
      ],
      "metadata": {
        "colab": {
          "base_uri": "https://localhost:8080/"
        },
        "id": "iulj3OLdHlmI",
        "outputId": "bc572d4d-cf28-434e-afea-d15fe633beec"
      },
      "execution_count": 21,
      "outputs": [
        {
          "output_type": "stream",
          "name": "stdout",
          "text": [
            "Requirement already satisfied: scipy in /usr/local/lib/python3.10/dist-packages (1.13.1)\n",
            "Requirement already satisfied: numpy<2.3,>=1.22.4 in /usr/local/lib/python3.10/dist-packages (from scipy) (1.26.4)\n"
          ]
        }
      ]
    },
    {
      "cell_type": "markdown",
      "source": [
        "SciPy ofrece funciones avanzadas de interpolación:\n"
      ],
      "metadata": {
        "id": "Fb3OqJegEuPM"
      }
    },
    {
      "cell_type": "code",
      "source": [
        "from scipy.interpolate import interp1d\n",
        "\n",
        "x = np.array([0, 1, 2, 3, 4, 5])\n",
        "y = np.array([0, 1, 4, 9, 16, 25])\n",
        "\n",
        "interpolacion = interp1d(x, y, kind='cubic')  # Interpolación cúbica\n",
        "x_new = np.linspace(0, 5, 100)\n",
        "y_new = interpolacion(x_new)\n",
        "\n",
        "import matplotlib.pyplot as plt\n",
        "plt.scatter(x, y, color='red', label='Puntos conocidos')\n",
        "plt.plot(x_new, y_new, color='blue', label='Interpolación cúbica')\n",
        "plt.legend()\n",
        "plt.show()"
      ],
      "metadata": {
        "colab": {
          "base_uri": "https://localhost:8080/",
          "height": 430
        },
        "id": "BdC8wxuTEw0E",
        "outputId": "f2b77ed8-ce8d-42f2-be4f-428a7924869e"
      },
      "execution_count": 15,
      "outputs": [
        {
          "output_type": "display_data",
          "data": {
            "text/plain": [
              "<Figure size 640x480 with 1 Axes>"
            ],
            "image/png": "[encoded data removed]"
          },
          "metadata": {}
        }
      ]
    },
    {
      "cell_type": "markdown",
      "source": [
        "# Polinomios de Interpolación\n",
        "## Polinomio de Lagrange\n",
        "Otra forma de interpolar es usar polinomios de Lagrange o ajustes polinómicos. Esto se puede hacer con SciPy o NumPy.\n",
        "\n",
        "Ejemplo: Polinomio de Lagrange"
      ],
      "metadata": {
        "id": "nvvuISAtEysE"
      }
    },
    {
      "cell_type": "code",
      "source": [
        "from scipy.interpolate import lagrange\n",
        "\n",
        "x = np.array([0, 1, 2, 3])\n",
        "y = np.array([1, 2, 0, 5])\n",
        "\n",
        "polinomio = lagrange(x, y)\n",
        "print(\"Polinomio de Lagrange:\", polinomio)\n",
        "\n",
        "x_new = np.linspace(0, 3, 100)\n",
        "y_new = polinomio(x_new)\n",
        "\n",
        "plt.scatter(x, y, color='red', label='Puntos conocidos')\n",
        "plt.plot(x_new, y_new, color='green', label='Interpolación de Lagrange')\n",
        "plt.legend()\n",
        "plt.show()"
      ],
      "metadata": {
        "colab": {
          "base_uri": "https://localhost:8080/",
          "height": 465
        },
        "id": "n3enW5hdE1D0",
        "outputId": "651a3b69-5eab-4f61-a17b-b1a75b22f2b4"
      },
      "execution_count": 16,
      "outputs": [
        {
          "output_type": "stream",
          "name": "stdout",
          "text": [
            "Polinomio de Lagrange:        3       2\n",
            "1.667 x - 6.5 x + 5.833 x + 1\n"
          ]
        },
        {
          "output_type": "display_data",
          "data": {
            "text/plain": [
              "<Figure size 640x480 with 1 Axes>"
            ],
            "image/png": "[encoded data removed]"
          },
          "metadata": {}
        }
      ]
    },
    {
      "cell_type": "markdown",
      "source": [
        "## Interpolación Cúbica\n",
        "\n",
        "La interpolación cúbica utiliza polinomios de tercer grado entre los puntos conocidos. Este método produce curvas más suaves que la interpolación lineal."
      ],
      "metadata": {
        "id": "dyNhVDfkHVwg"
      }
    },
    {
      "cell_type": "code",
      "source": [
        "from scipy.interpolate import interp1d\n",
        "\n",
        "# Puntos conocidos\n",
        "x = np.array([0, 1, 2, 3, 4])\n",
        "y = np.array([1, 2, 0, 2, 1])\n",
        "\n",
        "# Interpolación cúbica\n",
        "interpolacion_cubica = interp1d(x, y, kind='cubic')\n",
        "\n",
        "# Nuevos puntos\n",
        "x_nuevo = np.linspace(0, 4, 100)\n",
        "y_nuevo = interpolacion_cubica(x_nuevo)\n",
        "\n",
        "# Graficar\n",
        "plt.scatter(x, y, color='red', label='Puntos conocidos')\n",
        "plt.plot(x_nuevo, y_nuevo, label='Interpolación cúbica', color='green')\n",
        "plt.title(\"Interpolación Cúbica\")\n",
        "plt.legend()\n",
        "plt.show()"
      ],
      "metadata": {
        "colab": {
          "base_uri": "https://localhost:8080/",
          "height": 453
        },
        "id": "aOegib6sHXEg",
        "outputId": "a15a6c66-f563-4f37-992c-0f5e7a8740bb"
      },
      "execution_count": 20,
      "outputs": [
        {
          "output_type": "display_data",
          "data": {
            "text/plain": [
              "<Figure size 640x480 with 1 Axes>"
            ],
            "image/png": "[encoded data removed]"
          },
          "metadata": {}
        }
      ]
    },
    {
      "cell_type": "markdown",
      "source": [
        "## Evaluación del Polinomio\n",
        "\n",
        "Una vez que se obtiene un polinomio de interpolación, se puede evaluar en puntos específicos."
      ],
      "metadata": {
        "id": "eIX3uW3xHEXw"
      }
    },
    {
      "cell_type": "code",
      "source": [
        "# Evaluar el polinomio en un punto específico\n",
        "punto = 2.5\n",
        "valor = polinomio(punto)\n",
        "print(f\"El valor interpolado en x = {punto} es {valor}\")"
      ],
      "metadata": {
        "colab": {
          "base_uri": "https://localhost:8080/"
        },
        "id": "U7LE2wn3HH3Z",
        "outputId": "bec92eb0-f9ca-477d-c981-6b3bff87028e"
      },
      "execution_count": 18,
      "outputs": [
        {
          "output_type": "stream",
          "name": "stdout",
          "text": [
            "El valor interpolado en x = 2.5 es 1.1999999999999997\n"
          ]
        }
      ]
    },
    {
      "cell_type": "markdown",
      "source": [
        "## Diferencias Finitas\n",
        "\n",
        "Las diferencias finitas son útiles para calcular derivadas numéricas y evaluar cambios entre puntos conocidos."
      ],
      "metadata": {
        "id": "eAwovIQUHJQA"
      }
    },
    {
      "cell_type": "code",
      "source": [
        "# Diferencias finitas\n",
        "diferencias = np.diff(y) / np.diff(x)\n",
        "print(\"Diferencias finitas:\", diferencias)"
      ],
      "metadata": {
        "colab": {
          "base_uri": "https://localhost:8080/"
        },
        "id": "SjuA_OsqHMxZ",
        "outputId": "be4cb94d-b7bc-4b18-c0fa-76ccc48d495e"
      },
      "execution_count": 19,
      "outputs": [
        {
          "output_type": "stream",
          "name": "stdout",
          "text": [
            "Diferencias finitas: [ 1. -2.  2. -1.]\n"
          ]
        }
      ]
    },
    {
      "cell_type": "markdown",
      "source": [
        "## Ajuste Polinómico\n",
        "El ajuste polinómico encuentra un polinomio que aproxima un conjunto de puntos, pero no necesariamente pasa por ellos. Se utiliza numpy.polyfit.:"
      ],
      "metadata": {
        "id": "jM7dCm06E3dc"
      }
    },
    {
      "cell_type": "code",
      "source": [
        "x = np.array([0, 1, 2, 3, 4])\n",
        "y = np.array([1, 2, 0, 2, 1])\n",
        "\n",
        "coef = np.polyfit(x, y, 2)  # Polinomio de grado 2\n",
        "polinomio = np.poly1d(coef)\n",
        "\n",
        "x_new = np.linspace(0, 4, 100)\n",
        "y_new = polinomio(x_new)\n",
        "\n",
        "plt.scatter(x, y, color='red', label='Datos originales')\n",
        "plt.plot(x_new, y_new, label='Ajuste polinómico', color='purple')\n",
        "plt.legend()\n",
        "plt.show()"
      ],
      "metadata": {
        "colab": {
          "base_uri": "https://localhost:8080/",
          "height": 430
        },
        "id": "AXLq9oYYE5yU",
        "outputId": "557cc6e5-d4da-4fe0-ba59-7d544af56935"
      },
      "execution_count": 17,
      "outputs": [
        {
          "output_type": "display_data",
          "data": {
            "text/plain": [
              "<Figure size 640x480 with 1 Axes>"
            ],
            "image/png": "[encoded data removed]"
          },
          "metadata": {}
        }
      ]
    },
    {
      "cell_type": "markdown",
      "source": [
        "## Interpolación Multidimensional\n",
        "\n",
        "En datos multidimensionales se puede usar scipy.interpolate.griddata:"
      ],
      "metadata": {
        "id": "OHG8l7xdIL2H"
      }
    },
    {
      "cell_type": "code",
      "source": [
        "from scipy.interpolate import griddata\n",
        "\n",
        "puntos = np.array([[0, 0], [0, 1], [1, 0], [1, 1]])\n",
        "valores = np.array([1, 2, 3, 4])\n",
        "nuevos_puntos = np.array([[0.5, 0.5], [0.2, 0.8]])\n",
        "\n",
        "valores_interpolados = griddata(puntos, valores, nuevos_puntos, method='linear')\n",
        "print(\"Valores interpolados:\", valores_interpolados)"
      ],
      "metadata": {
        "colab": {
          "base_uri": "https://localhost:8080/"
        },
        "id": "PFgK4NKyIQ53",
        "outputId": "9d973b35-2137-4dee-9da6-7d5db2f1c615"
      },
      "execution_count": 22,
      "outputs": [
        {
          "output_type": "stream",
          "name": "stdout",
          "text": [
            "Valores interpolados: [2.5 2.2]\n"
          ]
        }
      ]
    },
    {
      "cell_type": "markdown",
      "source": [
        "# Creación de una tabla con NumPy\n",
        "A continuación, los pasos\n",
        "\n",
        "Paso 1: Importar las bibliotecas necesarias\n",
        "\n",
        "Primero se necesita importar la biblioteca así como pandas para poder mostrar la tabla de manera más clara en el notebook."
      ],
      "metadata": {
        "id": "VKY4uvTxIpeW"
      }
    },
    {
      "cell_type": "code",
      "source": [
        "import numpy as np\n",
        "import pandas as pd"
      ],
      "metadata": {
        "id": "LP38gX_lItwP"
      },
      "execution_count": 23,
      "outputs": []
    },
    {
      "cell_type": "markdown",
      "source": [
        "En numpy, se puede crear arreglos para organizar los datos en una estructura tabular. Aquí, usaremos una matriz 2D donde cada fila representa un registro o una entrada, y cada columna representa una característica o un atributo.\n",
        "\n",
        "Por ejemplo, se crear un arreglo de 5 filas y 3 columnas que represente una tabla de datos con tres características para cinco muestras:"
      ],
      "metadata": {
        "id": "g3OCHok1Iv3P"
      }
    },
    {
      "cell_type": "code",
      "source": [
        "# Crear un array de numpy con datos de ejemplo\n",
        "data = np.array([\n",
        "    [25, 70, 180],\n",
        "    [30, 65, 175],\n",
        "    [35, 80, 165],\n",
        "    [40, 75, 185],\n",
        "    [45, 90, 170]\n",
        "])\n",
        "# Visualizar el array\n",
        "print(data)"
      ],
      "metadata": {
        "colab": {
          "base_uri": "https://localhost:8080/"
        },
        "id": "-_ujFTSVIzEe",
        "outputId": "accfef50-8e21-4bed-faa6-56d4e512b7e3"
      },
      "execution_count": 24,
      "outputs": [
        {
          "output_type": "stream",
          "name": "stdout",
          "text": [
            "[[ 25  70 180]\n",
            " [ 30  65 175]\n",
            " [ 35  80 165]\n",
            " [ 40  75 185]\n",
            " [ 45  90 170]]\n"
          ]
        }
      ]
    },
    {
      "cell_type": "markdown",
      "source": [
        "Aquí, cada fila podría representar una persona, y las columnas podrían representar la edad, el peso y la altura respectivamente.\n",
        "\n",
        "Paso 3: Crear etiquetas para las columnas y filas\n",
        "\n",
        "En una tabla, es común tener etiquetas de encabezado para cada columna. Se pueden definir las etiquetas de la siguiente manera:"
      ],
      "metadata": {
        "id": "dVnJ5-w6I2Wu"
      }
    },
    {
      "cell_type": "code",
      "source": [
        "# Definir etiquetas para las columnas\n",
        "column_names = [\"Edad\", \"Peso\", \"Altura\"]"
      ],
      "metadata": {
        "id": "6Oftx8M9JCI2"
      },
      "execution_count": 25,
      "outputs": []
    },
    {
      "cell_type": "markdown",
      "source": [
        "Paso 4: Convertir el arreglo de numpy en un DataFrame de pandas\n",
        "\n",
        "Aunque numpy es excelente para cálculos numéricos, pandas es mejor para mostrar y manipular datos tabulares. Aquí se debe de convertir el arreglo numpy en un DataFrame de pandas para verlo como una tabla en el notebook."
      ],
      "metadata": {
        "id": "xzP49G2YJEpn"
      }
    },
    {
      "cell_type": "code",
      "source": [
        "# Convertir el array de numpy en un DataFrame de pandas\n",
        "df = pd.DataFrame(data, columns=column_names)\n",
        "# Mostrar la tabla\n",
        "df"
      ],
      "metadata": {
        "colab": {
          "base_uri": "https://localhost:8080/",
          "height": 206
        },
        "id": "BkNFMh0SJGyO",
        "outputId": "8036fb11-7b41-49c2-86fd-326386f7ce5c"
      },
      "execution_count": 26,
      "outputs": [
        {
          "output_type": "execute_result",
          "data": {
            "text/plain": [
              "   Edad  Peso  Altura\n",
              "0    25    70     180\n",
              "1    30    65     175\n",
              "2    35    80     165\n",
              "3    40    75     185\n",
              "4    45    90     170"
            ],
            "text/html": [
              "\n",
              "  <div id=\"df-fe9f2001-4b3f-4847-b3fd-5d9de53030de\" class=\"colab-df-container\">\n",
              "    <div>\n",
              "<style scoped>\n",
              "    .dataframe tbody tr th:only-of-type {\n",
              "        vertical-align: middle;\n",
              "    }\n",
              "\n",
              "    .dataframe tbody tr th {\n",
              "        vertical-align: top;\n",
              "    }\n",
              "\n",
              "    .dataframe thead th {\n",
              "        text-align: right;\n",
              "    }\n",
              "</style>\n",
              "<table border=\"1\" class=\"dataframe\">\n",
              "  <thead>\n",
              "    <tr style=\"text-align: right;\">\n",
              "      <th></th>\n",
              "      <th>Edad</th>\n",
              "      <th>Peso</th>\n",
              "      <th>Altura</th>\n",
              "    </tr>\n",
              "  </thead>\n",
              "  <tbody>\n",
              "    <tr>\n",
              "      <th>0</th>\n",
              "      <td>25</td>\n",
              "      <td>70</td>\n",
              "      <td>180</td>\n",
              "    </tr>\n",
              "    <tr>\n",
              "      <th>1</th>\n",
              "      <td>30</td>\n",
              "      <td>65</td>\n",
              "      <td>175</td>\n",
              "    </tr>\n",
              "    <tr>\n",
              "      <th>2</th>\n",
              "      <td>35</td>\n",
              "      <td>80</td>\n",
              "      <td>165</td>\n",
              "    </tr>\n",
              "    <tr>\n",
              "      <th>3</th>\n",
              "      <td>40</td>\n",
              "      <td>75</td>\n",
              "      <td>185</td>\n",
              "    </tr>\n",
              "    <tr>\n",
              "      <th>4</th>\n",
              "      <td>45</td>\n",
              "      <td>90</td>\n",
              "      <td>170</td>\n",
              "    </tr>\n",
              "  </tbody>\n",
              "</table>\n",
              "</div>\n",
              "    <div class=\"colab-df-buttons\">\n",
              "\n",
              "  <div class=\"colab-df-container\">\n",
              "    <button class=\"colab-df-convert\" onclick=\"convertToInteractive('df-fe9f2001-4b3f-4847-b3fd-5d9de53030de')\"\n",
              "            title=\"Convert this dataframe to an interactive table.\"\n",
              "            style=\"display:none;\">\n",
              "\n",
              "  <svg xmlns=\"http://www.w3.org/2000/svg\" height=\"24px\" viewBox=\"0 -960 960 960\">\n",
              "    <path d=\"M120-120v-720h720v720H120Zm60-500h600v-160H180v160Zm220 220h160v-160H400v160Zm0 220h160v-160H400v160ZM180-400h160v-160H180v160Zm440 0h160v-160H620v160ZM180-180h160v-160H180v160Zm440 0h160v-160H620v160Z\"/>\n",
              "  </svg>\n",
              "    </button>\n",
              "\n",
              "  <style>\n",
              "    .colab-df-container {\n",
              "      display:flex;\n",
              "      gap: 12px;\n",
              "    }\n",
              "\n",
              "    .colab-df-convert {\n",
              "      background-color: #E8F0FE;\n",
              "      border: none;\n",
              "      border-radius: 50%;\n",
              "      cursor: pointer;\n",
              "      display: none;\n",
              "      fill: #1967D2;\n",
              "      height: 32px;\n",
              "      padding: 0 0 0 0;\n",
              "      width: 32px;\n",
              "    }\n",
              "\n",
              "    .colab-df-convert:hover {\n",
              "      background-color: #E2EBFA;\n",
              "      box-shadow: 0px 1px 2px rgba(60, 64, 67, 0.3), 0px 1px 3px 1px rgba(60, 64, 67, 0.15);\n",
              "      fill: #174EA6;\n",
              "    }\n",
              "\n",
              "    .colab-df-buttons div {\n",
              "      margin-bottom: 4px;\n",
              "    }\n",
              "\n",
              "    [theme=dark] .colab-df-convert {\n",
              "      background-color: #3B4455;\n",
              "      fill: #D2E3FC;\n",
              "    }\n",
              "\n",
              "    [theme=dark] .colab-df-convert:hover {\n",
              "      background-color: #434B5C;\n",
              "      box-shadow: 0px 1px 3px 1px rgba(0, 0, 0, 0.15);\n",
              "      filter: drop-shadow(0px 1px 2px rgba(0, 0, 0, 0.3));\n",
              "      fill: #FFFFFF;\n",
              "    }\n",
              "  </style>\n",
              "\n",
              "    <script>\n",
              "      const buttonEl =\n",
              "        document.querySelector('#df-fe9f2001-4b3f-4847-b3fd-5d9de53030de button.colab-df-convert');\n",
              "      buttonEl.style.display =\n",
              "        google.colab.kernel.accessAllowed ? 'block' : 'none';\n",
              "\n",
              "      async function convertToInteractive(key) {\n",
              "        const element = document.querySelector('#df-fe9f2001-4b3f-4847-b3fd-5d9de53030de');\n",
              "        const dataTable =\n",
              "          await google.colab.kernel.invokeFunction('convertToInteractive',\n",
              "                                                    [key], {});\n",
              "        if (!dataTable) return;\n",
              "\n",
              "        const docLinkHtml = 'Like what you see? Visit the ' +\n",
              "          '<a target=\"_blank\" href=https://colab.research.google.com/notebooks/data_table.ipynb>data table notebook</a>'\n",
              "          + ' to learn more about interactive tables.';\n",
              "        element.innerHTML = '';\n",
              "        dataTable['output_type'] = 'display_data';\n",
              "        await google.colab.output.renderOutput(dataTable, element);\n",
              "        const docLink = document.createElement('div');\n",
              "        docLink.innerHTML = docLinkHtml;\n",
              "        element.appendChild(docLink);\n",
              "      }\n",
              "    </script>\n",
              "  </div>\n",
              "\n",
              "\n",
              "<div id=\"df-2aa1300c-3df5-448d-8947-eb7efcb1dbda\">\n",
              "  <button class=\"colab-df-quickchart\" onclick=\"quickchart('df-2aa1300c-3df5-448d-8947-eb7efcb1dbda')\"\n",
              "            title=\"Suggest charts\"\n",
              "            style=\"display:none;\">\n",
              "\n",
              "<svg xmlns=\"http://www.w3.org/2000/svg\" height=\"24px\"viewBox=\"0 0 24 24\"\n",
              "     width=\"24px\">\n",
              "    <g>\n",
              "        <path d=\"M19 3H5c-1.1 0-2 .9-2 2v14c0 1.1.9 2 2 2h14c1.1 0 2-.9 2-2V5c0-1.1-.9-2-2-2zM9 17H7v-7h2v7zm4 0h-2V7h2v10zm4 0h-2v-4h2v4z\"/>\n",
              "    </g>\n",
              "</svg>\n",
              "  </button>\n",
              "\n",
              "<style>\n",
              "  .colab-df-quickchart {\n",
              "      --bg-color: #E8F0FE;\n",
              "      --fill-color: #1967D2;\n",
              "      --hover-bg-color: #E2EBFA;\n",
              "      --hover-fill-color: #174EA6;\n",
              "      --disabled-fill-color: #AAA;\n",
              "      --disabled-bg-color: #DDD;\n",
              "  }\n",
              "\n",
              "  [theme=dark] .colab-df-quickchart {\n",
              "      --bg-color: #3B4455;\n",
              "      --fill-color: #D2E3FC;\n",
              "      --hover-bg-color: #434B5C;\n",
              "      --hover-fill-color: #FFFFFF;\n",
              "      --disabled-bg-color: #3B4455;\n",
              "      --disabled-fill-color: #666;\n",
              "  }\n",
              "\n",
              "  .colab-df-quickchart {\n",
              "    background-color: var(--bg-color);\n",
              "    border: none;\n",
              "    border-radius: 50%;\n",
              "    cursor: pointer;\n",
              "    display: none;\n",
              "    fill: var(--fill-color);\n",
              "    height: 32px;\n",
              "    padding: 0;\n",
              "    width: 32px;\n",
              "  }\n",
              "\n",
              "  .colab-df-quickchart:hover {\n",
              "    background-color: var(--hover-bg-color);\n",
              "    box-shadow: 0 1px 2px rgba(60, 64, 67, 0.3), 0 1px 3px 1px rgba(60, 64, 67, 0.15);\n",
              "    fill: var(--button-hover-fill-color);\n",
              "  }\n",
              "\n",
              "  .colab-df-quickchart-complete:disabled,\n",
              "  .colab-df-quickchart-complete:disabled:hover {\n",
              "    background-color: var(--disabled-bg-color);\n",
              "    fill: var(--disabled-fill-color);\n",
              "    box-shadow: none;\n",
              "  }\n",
              "\n",
              "  .colab-df-spinner {\n",
              "    border: 2px solid var(--fill-color);\n",
              "    border-color: transparent;\n",
              "    border-bottom-color: var(--fill-color);\n",
              "    animation:\n",
              "      spin 1s steps(1) infinite;\n",
              "  }\n",
              "\n",
              "  @keyframes spin {\n",
              "    0% {\n",
              "      border-color: transparent;\n",
              "      border-bottom-color: var(--fill-color);\n",
              "      border-left-color: var(--fill-color);\n",
              "    }\n",
              "    20% {\n",
              "      border-color: transparent;\n",
              "      border-left-color: var(--fill-color);\n",
              "      border-top-color: var(--fill-color);\n",
              "    }\n",
              "    30% {\n",
              "      border-color: transparent;\n",
              "      border-left-color: var(--fill-color);\n",
              "      border-top-color: var(--fill-color);\n",
              "      border-right-color: var(--fill-color);\n",
              "    }\n",
              "    40% {\n",
              "      border-color: transparent;\n",
              "      border-right-color: var(--fill-color);\n",
              "      border-top-color: var(--fill-color);\n",
              "    }\n",
              "    60% {\n",
              "      border-color: transparent;\n",
              "      border-right-color: var(--fill-color);\n",
              "    }\n",
              "    80% {\n",
              "      border-color: transparent;\n",
              "      border-right-color: var(--fill-color);\n",
              "      border-bottom-color: var(--fill-color);\n",
              "    }\n",
              "    90% {\n",
              "      border-color: transparent;\n",
              "      border-bottom-color: var(--fill-color);\n",
              "    }\n",
              "  }\n",
              "</style>\n",
              "\n",
              "  <script>\n",
              "    async function quickchart(key) {\n",
              "      const quickchartButtonEl =\n",
              "        document.querySelector('#' + key + ' button');\n",
              "      quickchartButtonEl.disabled = true;  // To prevent multiple clicks.\n",
              "      quickchartButtonEl.classList.add('colab-df-spinner');\n",
              "      try {\n",
              "        const charts = await google.colab.kernel.invokeFunction(\n",
              "            'suggestCharts', [key], {});\n",
              "      } catch (error) {\n",
              "        console.error('Error during call to suggestCharts:', error);\n",
              "      }\n",
              "      quickchartButtonEl.classList.remove('colab-df-spinner');\n",
              "      quickchartButtonEl.classList.add('colab-df-quickchart-complete');\n",
              "    }\n",
              "    (() => {\n",
              "      let quickchartButtonEl =\n",
              "        document.querySelector('#df-2aa1300c-3df5-448d-8947-eb7efcb1dbda button');\n",
              "      quickchartButtonEl.style.display =\n",
              "        google.colab.kernel.accessAllowed ? 'block' : 'none';\n",
              "    })();\n",
              "  </script>\n",
              "</div>\n",
              "\n",
              "  <div id=\"id_1dbba96d-4c36-41ae-a980-399f9e844ddc\">\n",
              "    <style>\n",
              "      .colab-df-generate {\n",
              "        background-color: #E8F0FE;\n",
              "        border: none;\n",
              "        border-radius: 50%;\n",
              "        cursor: pointer;\n",
              "        display: none;\n",
              "        fill: #1967D2;\n",
              "        height: 32px;\n",
              "        padding: 0 0 0 0;\n",
              "        width: 32px;\n",
              "      }\n",
              "\n",
              "      .colab-df-generate:hover {\n",
              "        background-color: #E2EBFA;\n",
              "        box-shadow: 0px 1px 2px rgba(60, 64, 67, 0.3), 0px 1px 3px 1px rgba(60, 64, 67, 0.15);\n",
              "        fill: #174EA6;\n",
              "      }\n",
              "\n",
              "      [theme=dark] .colab-df-generate {\n",
              "        background-color: #3B4455;\n",
              "        fill: #D2E3FC;\n",
              "      }\n",
              "\n",
              "      [theme=dark] .colab-df-generate:hover {\n",
              "        background-color: #434B5C;\n",
              "        box-shadow: 0px 1px 3px 1px rgba(0, 0, 0, 0.15);\n",
              "        filter: drop-shadow(0px 1px 2px rgba(0, 0, 0, 0.3));\n",
              "        fill: #FFFFFF;\n",
              "      }\n",
              "    </style>\n",
              "    <button class=\"colab-df-generate\" onclick=\"generateWithVariable('df')\"\n",
              "            title=\"Generate code using this dataframe.\"\n",
              "            style=\"display:none;\">\n",
              "\n",
              "  <svg xmlns=\"http://www.w3.org/2000/svg\" height=\"24px\"viewBox=\"0 0 24 24\"\n",
              "       width=\"24px\">\n",
              "    <path d=\"M7,19H8.4L18.45,9,17,7.55,7,17.6ZM5,21V16.75L18.45,3.32a2,2,0,0,1,2.83,0l1.4,1.43a1.91,1.91,0,0,1,.58,1.4,1.91,1.91,0,0,1-.58,1.4L9.25,21ZM18.45,9,17,7.55Zm-12,3A5.31,5.31,0,0,0,4.9,8.1,5.31,5.31,0,0,0,1,6.5,5.31,5.31,0,0,0,4.9,4.9,5.31,5.31,0,0,0,6.5,1,5.31,5.31,0,0,0,8.1,4.9,5.31,5.31,0,0,0,12,6.5,5.46,5.46,0,0,0,6.5,12Z\"/>\n",
              "  </svg>\n",
              "    </button>\n",
              "    <script>\n",
              "      (() => {\n",
              "      const buttonEl =\n",
              "        document.querySelector('#id_1dbba96d-4c36-41ae-a980-399f9e844ddc button.colab-df-generate');\n",
              "      buttonEl.style.display =\n",
              "        google.colab.kernel.accessAllowed ? 'block' : 'none';\n",
              "\n",
              "      buttonEl.onclick = () => {\n",
              "        google.colab.notebook.generateWithVariable('df');\n",
              "      }\n",
              "      })();\n",
              "    </script>\n",
              "  </div>\n",
              "\n",
              "    </div>\n",
              "  </div>\n"
            ],
            "application/vnd.google.colaboratory.intrinsic+json": {
              "type": "dataframe",
              "variable_name": "df",
              "summary": "{\n  \"name\": \"df\",\n  \"rows\": 5,\n  \"fields\": [\n    {\n      \"column\": \"Edad\",\n      \"properties\": {\n        \"dtype\": \"number\",\n        \"std\": 7,\n        \"min\": 25,\n        \"max\": 45,\n        \"num_unique_values\": 5,\n        \"samples\": [\n          30,\n          45,\n          35\n        ],\n        \"semantic_type\": \"\",\n        \"description\": \"\"\n      }\n    },\n    {\n      \"column\": \"Peso\",\n      \"properties\": {\n        \"dtype\": \"number\",\n        \"std\": 9,\n        \"min\": 65,\n        \"max\": 90,\n        \"num_unique_values\": 5,\n        \"samples\": [\n          65,\n          90,\n          80\n        ],\n        \"semantic_type\": \"\",\n        \"description\": \"\"\n      }\n    },\n    {\n      \"column\": \"Altura\",\n      \"properties\": {\n        \"dtype\": \"number\",\n        \"std\": 7,\n        \"min\": 165,\n        \"max\": 185,\n        \"num_unique_values\": 5,\n        \"samples\": [\n          175,\n          170,\n          165\n        ],\n        \"semantic_type\": \"\",\n        \"description\": \"\"\n      }\n    }\n  ]\n}"
            }
          },
          "metadata": {},
          "execution_count": 26
        }
      ]
    },
    {
      "cell_type": "markdown",
      "source": [
        "Paso 5: Agregar etiquetas de fila (opcional)\n",
        "\n",
        "Si se quiere agregar nombres específicos a cada fila, se puede hacer asignando un índice al DataFrame."
      ],
      "metadata": {
        "id": "0wpZZZ2BJIdt"
      }
    },
    {
      "cell_type": "code",
      "source": [
        "# Definir etiquetas de fila\n",
        "row_labels = [\"Persona 1\", \"Persona 2\", \"Persona 3\", \"Persona 4\", \"Persona 5\"]\n",
        "\n",
        "# Asignar etiquetas de fila al DataFrame\n",
        "df.index = row_labels\n",
        "\n",
        "# Mostrar la tabla con etiquetas de fila\n",
        "df"
      ],
      "metadata": {
        "colab": {
          "base_uri": "https://localhost:8080/",
          "height": 206
        },
        "id": "54FkeGjeJKil",
        "outputId": "8eb9e2ed-fb74-4fd8-904e-c28e7792f9fc"
      },
      "execution_count": 27,
      "outputs": [
        {
          "output_type": "execute_result",
          "data": {
            "text/plain": [
              "           Edad  Peso  Altura\n",
              "Persona 1    25    70     180\n",
              "Persona 2    30    65     175\n",
              "Persona 3    35    80     165\n",
              "Persona 4    40    75     185\n",
              "Persona 5    45    90     170"
            ],
            "text/html": [
              "\n",
              "  <div id=\"df-225dd353-b052-4783-89fd-f339a6566e31\" class=\"colab-df-container\">\n",
              "    <div>\n",
              "<style scoped>\n",
              "    .dataframe tbody tr th:only-of-type {\n",
              "        vertical-align: middle;\n",
              "    }\n",
              "\n",
              "    .dataframe tbody tr th {\n",
              "        vertical-align: top;\n",
              "    }\n",
              "\n",
              "    .dataframe thead th {\n",
              "        text-align: right;\n",
              "    }\n",
              "</style>\n",
              "<table border=\"1\" class=\"dataframe\">\n",
              "  <thead>\n",
              "    <tr style=\"text-align: right;\">\n",
              "      <th></th>\n",
              "      <th>Edad</th>\n",
              "      <th>Peso</th>\n",
              "      <th>Altura</th>\n",
              "    </tr>\n",
              "  </thead>\n",
              "  <tbody>\n",
              "    <tr>\n",
              "      <th>Persona 1</th>\n",
              "      <td>25</td>\n",
              "      <td>70</td>\n",
              "      <td>180</td>\n",
              "    </tr>\n",
              "    <tr>\n",
              "      <th>Persona 2</th>\n",
              "      <td>30</td>\n",
              "      <td>65</td>\n",
              "      <td>175</td>\n",
              "    </tr>\n",
              "    <tr>\n",
              "      <th>Persona 3</th>\n",
              "      <td>35</td>\n",
              "      <td>80</td>\n",
              "      <td>165</td>\n",
              "    </tr>\n",
              "    <tr>\n",
              "      <th>Persona 4</th>\n",
              "      <td>40</td>\n",
              "      <td>75</td>\n",
              "      <td>185</td>\n",
              "    </tr>\n",
              "    <tr>\n",
              "      <th>Persona 5</th>\n",
              "      <td>45</td>\n",
              "      <td>90</td>\n",
              "      <td>170</td>\n",
              "    </tr>\n",
              "  </tbody>\n",
              "</table>\n",
              "</div>\n",
              "    <div class=\"colab-df-buttons\">\n",
              "\n",
              "  <div class=\"colab-df-container\">\n",
              "    <button class=\"colab-df-convert\" onclick=\"convertToInteractive('df-225dd353-b052-4783-89fd-f339a6566e31')\"\n",
              "            title=\"Convert this dataframe to an interactive table.\"\n",
              "            style=\"display:none;\">\n",
              "\n",
              "  <svg xmlns=\"http://www.w3.org/2000/svg\" height=\"24px\" viewBox=\"0 -960 960 960\">\n",
              "    <path d=\"M120-120v-720h720v720H120Zm60-500h600v-160H180v160Zm220 220h160v-160H400v160Zm0 220h160v-160H400v160ZM180-400h160v-160H180v160Zm440 0h160v-160H620v160ZM180-180h160v-160H180v160Zm440 0h160v-160H620v160Z\"/>\n",
              "  </svg>\n",
              "    </button>\n",
              "\n",
              "  <style>\n",
              "    .colab-df-container {\n",
              "      display:flex;\n",
              "      gap: 12px;\n",
              "    }\n",
              "\n",
              "    .colab-df-convert {\n",
              "      background-color: #E8F0FE;\n",
              "      border: none;\n",
              "      border-radius: 50%;\n",
              "      cursor: pointer;\n",
              "      display: none;\n",
              "      fill: #1967D2;\n",
              "      height: 32px;\n",
              "      padding: 0 0 0 0;\n",
              "      width: 32px;\n",
              "    }\n",
              "\n",
              "    .colab-df-convert:hover {\n",
              "      background-color: #E2EBFA;\n",
              "      box-shadow: 0px 1px 2px rgba(60, 64, 67, 0.3), 0px 1px 3px 1px rgba(60, 64, 67, 0.15);\n",
              "      fill: #174EA6;\n",
              "    }\n",
              "\n",
              "    .colab-df-buttons div {\n",
              "      margin-bottom: 4px;\n",
              "    }\n",
              "\n",
              "    [theme=dark] .colab-df-convert {\n",
              "      background-color: #3B4455;\n",
              "      fill: #D2E3FC;\n",
              "    }\n",
              "\n",
              "    [theme=dark] .colab-df-convert:hover {\n",
              "      background-color: #434B5C;\n",
              "      box-shadow: 0px 1px 3px 1px rgba(0, 0, 0, 0.15);\n",
              "      filter: drop-shadow(0px 1px 2px rgba(0, 0, 0, 0.3));\n",
              "      fill: #FFFFFF;\n",
              "    }\n",
              "  </style>\n",
              "\n",
              "    <script>\n",
              "      const buttonEl =\n",
              "        document.querySelector('#df-225dd353-b052-4783-89fd-f339a6566e31 button.colab-df-convert');\n",
              "      buttonEl.style.display =\n",
              "        google.colab.kernel.accessAllowed ? 'block' : 'none';\n",
              "\n",
              "      async function convertToInteractive(key) {\n",
              "        const element = document.querySelector('#df-225dd353-b052-4783-89fd-f339a6566e31');\n",
              "        const dataTable =\n",
              "          await google.colab.kernel.invokeFunction('convertToInteractive',\n",
              "                                                    [key], {});\n",
              "        if (!dataTable) return;\n",
              "\n",
              "        const docLinkHtml = 'Like what you see? Visit the ' +\n",
              "          '<a target=\"_blank\" href=https://colab.research.google.com/notebooks/data_table.ipynb>data table notebook</a>'\n",
              "          + ' to learn more about interactive tables.';\n",
              "        element.innerHTML = '';\n",
              "        dataTable['output_type'] = 'display_data';\n",
              "        await google.colab.output.renderOutput(dataTable, element);\n",
              "        const docLink = document.createElement('div');\n",
              "        docLink.innerHTML = docLinkHtml;\n",
              "        element.appendChild(docLink);\n",
              "      }\n",
              "    </script>\n",
              "  </div>\n",
              "\n",
              "\n",
              "<div id=\"df-c0e67b63-bc6f-4d7e-b040-cf5a01c46b42\">\n",
              "  <button class=\"colab-df-quickchart\" onclick=\"quickchart('df-c0e67b63-bc6f-4d7e-b040-cf5a01c46b42')\"\n",
              "            title=\"Suggest charts\"\n",
              "            style=\"display:none;\">\n",
              "\n",
              "<svg xmlns=\"http://www.w3.org/2000/svg\" height=\"24px\"viewBox=\"0 0 24 24\"\n",
              "     width=\"24px\">\n",
              "    <g>\n",
              "        <path d=\"M19 3H5c-1.1 0-2 .9-2 2v14c0 1.1.9 2 2 2h14c1.1 0 2-.9 2-2V5c0-1.1-.9-2-2-2zM9 17H7v-7h2v7zm4 0h-2V7h2v10zm4 0h-2v-4h2v4z\"/>\n",
              "    </g>\n",
              "</svg>\n",
              "  </button>\n",
              "\n",
              "<style>\n",
              "  .colab-df-quickchart {\n",
              "      --bg-color: #E8F0FE;\n",
              "      --fill-color: #1967D2;\n",
              "      --hover-bg-color: #E2EBFA;\n",
              "      --hover-fill-color: #174EA6;\n",
              "      --disabled-fill-color: #AAA;\n",
              "      --disabled-bg-color: #DDD;\n",
              "  }\n",
              "\n",
              "  [theme=dark] .colab-df-quickchart {\n",
              "      --bg-color: #3B4455;\n",
              "      --fill-color: #D2E3FC;\n",
              "      --hover-bg-color: #434B5C;\n",
              "      --hover-fill-color: #FFFFFF;\n",
              "      --disabled-bg-color: #3B4455;\n",
              "      --disabled-fill-color: #666;\n",
              "  }\n",
              "\n",
              "  .colab-df-quickchart {\n",
              "    background-color: var(--bg-color);\n",
              "    border: none;\n",
              "    border-radius: 50%;\n",
              "    cursor: pointer;\n",
              "    display: none;\n",
              "    fill: var(--fill-color);\n",
              "    height: 32px;\n",
              "    padding: 0;\n",
              "    width: 32px;\n",
              "  }\n",
              "\n",
              "  .colab-df-quickchart:hover {\n",
              "    background-color: var(--hover-bg-color);\n",
              "    box-shadow: 0 1px 2px rgba(60, 64, 67, 0.3), 0 1px 3px 1px rgba(60, 64, 67, 0.15);\n",
              "    fill: var(--button-hover-fill-color);\n",
              "  }\n",
              "\n",
              "  .colab-df-quickchart-complete:disabled,\n",
              "  .colab-df-quickchart-complete:disabled:hover {\n",
              "    background-color: var(--disabled-bg-color);\n",
              "    fill: var(--disabled-fill-color);\n",
              "    box-shadow: none;\n",
              "  }\n",
              "\n",
              "  .colab-df-spinner {\n",
              "    border: 2px solid var(--fill-color);\n",
              "    border-color: transparent;\n",
              "    border-bottom-color: var(--fill-color);\n",
              "    animation:\n",
              "      spin 1s steps(1) infinite;\n",
              "  }\n",
              "\n",
              "  @keyframes spin {\n",
              "    0% {\n",
              "      border-color: transparent;\n",
              "      border-bottom-color: var(--fill-color);\n",
              "      border-left-color: var(--fill-color);\n",
              "    }\n",
              "    20% {\n",
              "      border-color: transparent;\n",
              "      border-left-color: var(--fill-color);\n",
              "      border-top-color: var(--fill-color);\n",
              "    }\n",
              "    30% {\n",
              "      border-color: transparent;\n",
              "      border-left-color: var(--fill-color);\n",
              "      border-top-color: var(--fill-color);\n",
              "      border-right-color: var(--fill-color);\n",
              "    }\n",
              "    40% {\n",
              "      border-color: transparent;\n",
              "      border-right-color: var(--fill-color);\n",
              "      border-top-color: var(--fill-color);\n",
              "    }\n",
              "    60% {\n",
              "      border-color: transparent;\n",
              "      border-right-color: var(--fill-color);\n",
              "    }\n",
              "    80% {\n",
              "      border-color: transparent;\n",
              "      border-right-color: var(--fill-color);\n",
              "      border-bottom-color: var(--fill-color);\n",
              "    }\n",
              "    90% {\n",
              "      border-color: transparent;\n",
              "      border-bottom-color: var(--fill-color);\n",
              "    }\n",
              "  }\n",
              "</style>\n",
              "\n",
              "  <script>\n",
              "    async function quickchart(key) {\n",
              "      const quickchartButtonEl =\n",
              "        document.querySelector('#' + key + ' button');\n",
              "      quickchartButtonEl.disabled = true;  // To prevent multiple clicks.\n",
              "      quickchartButtonEl.classList.add('colab-df-spinner');\n",
              "      try {\n",
              "        const charts = await google.colab.kernel.invokeFunction(\n",
              "            'suggestCharts', [key], {});\n",
              "      } catch (error) {\n",
              "        console.error('Error during call to suggestCharts:', error);\n",
              "      }\n",
              "      quickchartButtonEl.classList.remove('colab-df-spinner');\n",
              "      quickchartButtonEl.classList.add('colab-df-quickchart-complete');\n",
              "    }\n",
              "    (() => {\n",
              "      let quickchartButtonEl =\n",
              "        document.querySelector('#df-c0e67b63-bc6f-4d7e-b040-cf5a01c46b42 button');\n",
              "      quickchartButtonEl.style.display =\n",
              "        google.colab.kernel.accessAllowed ? 'block' : 'none';\n",
              "    })();\n",
              "  </script>\n",
              "</div>\n",
              "\n",
              "  <div id=\"id_ff69271b-3037-4e1a-b08e-6b83351186ec\">\n",
              "    <style>\n",
              "      .colab-df-generate {\n",
              "        background-color: #E8F0FE;\n",
              "        border: none;\n",
              "        border-radius: 50%;\n",
              "        cursor: pointer;\n",
              "        display: none;\n",
              "        fill: #1967D2;\n",
              "        height: 32px;\n",
              "        padding: 0 0 0 0;\n",
              "        width: 32px;\n",
              "      }\n",
              "\n",
              "      .colab-df-generate:hover {\n",
              "        background-color: #E2EBFA;\n",
              "        box-shadow: 0px 1px 2px rgba(60, 64, 67, 0.3), 0px 1px 3px 1px rgba(60, 64, 67, 0.15);\n",
              "        fill: #174EA6;\n",
              "      }\n",
              "\n",
              "      [theme=dark] .colab-df-generate {\n",
              "        background-color: #3B4455;\n",
              "        fill: #D2E3FC;\n",
              "      }\n",
              "\n",
              "      [theme=dark] .colab-df-generate:hover {\n",
              "        background-color: #434B5C;\n",
              "        box-shadow: 0px 1px 3px 1px rgba(0, 0, 0, 0.15);\n",
              "        filter: drop-shadow(0px 1px 2px rgba(0, 0, 0, 0.3));\n",
              "        fill: #FFFFFF;\n",
              "      }\n",
              "    </style>\n",
              "    <button class=\"colab-df-generate\" onclick=\"generateWithVariable('df')\"\n",
              "            title=\"Generate code using this dataframe.\"\n",
              "            style=\"display:none;\">\n",
              "\n",
              "  <svg xmlns=\"http://www.w3.org/2000/svg\" height=\"24px\"viewBox=\"0 0 24 24\"\n",
              "       width=\"24px\">\n",
              "    <path d=\"M7,19H8.4L18.45,9,17,7.55,7,17.6ZM5,21V16.75L18.45,3.32a2,2,0,0,1,2.83,0l1.4,1.43a1.91,1.91,0,0,1,.58,1.4,1.91,1.91,0,0,1-.58,1.4L9.25,21ZM18.45,9,17,7.55Zm-12,3A5.31,5.31,0,0,0,4.9,8.1,5.31,5.31,0,0,0,1,6.5,5.31,5.31,0,0,0,4.9,4.9,5.31,5.31,0,0,0,6.5,1,5.31,5.31,0,0,0,8.1,4.9,5.31,5.31,0,0,0,12,6.5,5.46,5.46,0,0,0,6.5,12Z\"/>\n",
              "  </svg>\n",
              "    </button>\n",
              "    <script>\n",
              "      (() => {\n",
              "      const buttonEl =\n",
              "        document.querySelector('#id_ff69271b-3037-4e1a-b08e-6b83351186ec button.colab-df-generate');\n",
              "      buttonEl.style.display =\n",
              "        google.colab.kernel.accessAllowed ? 'block' : 'none';\n",
              "\n",
              "      buttonEl.onclick = () => {\n",
              "        google.colab.notebook.generateWithVariable('df');\n",
              "      }\n",
              "      })();\n",
              "    </script>\n",
              "  </div>\n",
              "\n",
              "    </div>\n",
              "  </div>\n"
            ],
            "application/vnd.google.colaboratory.intrinsic+json": {
              "type": "dataframe",
              "variable_name": "df",
              "summary": "{\n  \"name\": \"df\",\n  \"rows\": 5,\n  \"fields\": [\n    {\n      \"column\": \"Edad\",\n      \"properties\": {\n        \"dtype\": \"number\",\n        \"std\": 7,\n        \"min\": 25,\n        \"max\": 45,\n        \"num_unique_values\": 5,\n        \"samples\": [\n          30,\n          45,\n          35\n        ],\n        \"semantic_type\": \"\",\n        \"description\": \"\"\n      }\n    },\n    {\n      \"column\": \"Peso\",\n      \"properties\": {\n        \"dtype\": \"number\",\n        \"std\": 9,\n        \"min\": 65,\n        \"max\": 90,\n        \"num_unique_values\": 5,\n        \"samples\": [\n          65,\n          90,\n          80\n        ],\n        \"semantic_type\": \"\",\n        \"description\": \"\"\n      }\n    },\n    {\n      \"column\": \"Altura\",\n      \"properties\": {\n        \"dtype\": \"number\",\n        \"std\": 7,\n        \"min\": 165,\n        \"max\": 185,\n        \"num_unique_values\": 5,\n        \"samples\": [\n          175,\n          170,\n          165\n        ],\n        \"semantic_type\": \"\",\n        \"description\": \"\"\n      }\n    }\n  ]\n}"
            }
          },
          "metadata": {},
          "execution_count": 27
        }
      ]
    },
    {
      "cell_type": "markdown",
      "source": [
        "Paso 6: Exportar la tabla (opcional)\n",
        "\n",
        "Si se desea exportar la tabla a un archivo CSV para usarla en otros programas o análisis, se puede hacer con el siguiente comando:"
      ],
      "metadata": {
        "id": "j3sVNKC2JMnm"
      }
    },
    {
      "cell_type": "code",
      "source": [
        "# Exportar la tabla a un archivo CSV\n",
        "df.to_csv(\"tabla_ejemplo.csv\", index=True)"
      ],
      "metadata": {
        "id": "VeIc6Mc5JPBm"
      },
      "execution_count": 28,
      "outputs": []
    },
    {
      "cell_type": "markdown",
      "source": [
        "El código completo del ejemplo que se puso es:"
      ],
      "metadata": {
        "id": "Soy96eutJRRt"
      }
    },
    {
      "cell_type": "code",
      "source": [
        "import numpy as np\n",
        "import pandas as pd\n",
        "\n",
        "# Crear el array de numpy con datos\n",
        "data = np.array([\n",
        "    [25, 70, 180],\n",
        "    [30, 65, 175],\n",
        "    [35, 80, 165],\n",
        "    [40, 75, 185],\n",
        "    [45, 90, 170]\n",
        "])\n",
        "\n",
        "# Definir etiquetas de columna y fila\n",
        "column_names = [\"Edad\", \"Peso\", \"Altura\"]\n",
        "row_labels = [\"Persona 1\", \"Persona 2\", \"Persona 3\", \"Persona 4\", \"Persona 5\"]\n",
        "\n",
        "# Convertir el array en un DataFrame de pandas y asignar etiquetas\n",
        "df = pd.DataFrame(data, columns=column_names)\n",
        "df.index = row_labels\n",
        "\n",
        "# Mostrar la tabla\n",
        "df"
      ],
      "metadata": {
        "colab": {
          "base_uri": "https://localhost:8080/",
          "height": 206
        },
        "id": "SMj4HR5VJS8N",
        "outputId": "5b3f766c-de80-48fe-a3ce-c83a520eb0d9"
      },
      "execution_count": 29,
      "outputs": [
        {
          "output_type": "execute_result",
          "data": {
            "text/plain": [
              "           Edad  Peso  Altura\n",
              "Persona 1    25    70     180\n",
              "Persona 2    30    65     175\n",
              "Persona 3    35    80     165\n",
              "Persona 4    40    75     185\n",
              "Persona 5    45    90     170"
            ],
            "text/html": [
              "\n",
              "  <div id=\"df-30c314d4-d933-43e6-9b4d-8c55b3df0b50\" class=\"colab-df-container\">\n",
              "    <div>\n",
              "<style scoped>\n",
              "    .dataframe tbody tr th:only-of-type {\n",
              "        vertical-align: middle;\n",
              "    }\n",
              "\n",
              "    .dataframe tbody tr th {\n",
              "        vertical-align: top;\n",
              "    }\n",
              "\n",
              "    .dataframe thead th {\n",
              "        text-align: right;\n",
              "    }\n",
              "</style>\n",
              "<table border=\"1\" class=\"dataframe\">\n",
              "  <thead>\n",
              "    <tr style=\"text-align: right;\">\n",
              "      <th></th>\n",
              "      <th>Edad</th>\n",
              "      <th>Peso</th>\n",
              "      <th>Altura</th>\n",
              "    </tr>\n",
              "  </thead>\n",
              "  <tbody>\n",
              "    <tr>\n",
              "      <th>Persona 1</th>\n",
              "      <td>25</td>\n",
              "      <td>70</td>\n",
              "      <td>180</td>\n",
              "    </tr>\n",
              "    <tr>\n",
              "      <th>Persona 2</th>\n",
              "      <td>30</td>\n",
              "      <td>65</td>\n",
              "      <td>175</td>\n",
              "    </tr>\n",
              "    <tr>\n",
              "      <th>Persona 3</th>\n",
              "      <td>35</td>\n",
              "      <td>80</td>\n",
              "      <td>165</td>\n",
              "    </tr>\n",
              "    <tr>\n",
              "      <th>Persona 4</th>\n",
              "      <td>40</td>\n",
              "      <td>75</td>\n",
              "      <td>185</td>\n",
              "    </tr>\n",
              "    <tr>\n",
              "      <th>Persona 5</th>\n",
              "      <td>45</td>\n",
              "      <td>90</td>\n",
              "      <td>170</td>\n",
              "    </tr>\n",
              "  </tbody>\n",
              "</table>\n",
              "</div>\n",
              "    <div class=\"colab-df-buttons\">\n",
              "\n",
              "  <div class=\"colab-df-container\">\n",
              "    <button class=\"colab-df-convert\" onclick=\"convertToInteractive('df-30c314d4-d933-43e6-9b4d-8c55b3df0b50')\"\n",
              "            title=\"Convert this dataframe to an interactive table.\"\n",
              "            style=\"display:none;\">\n",
              "\n",
              "  <svg xmlns=\"http://www.w3.org/2000/svg\" height=\"24px\" viewBox=\"0 -960 960 960\">\n",
              "    <path d=\"M120-120v-720h720v720H120Zm60-500h600v-160H180v160Zm220 220h160v-160H400v160Zm0 220h160v-160H400v160ZM180-400h160v-160H180v160Zm440 0h160v-160H620v160ZM180-180h160v-160H180v160Zm440 0h160v-160H620v160Z\"/>\n",
              "  </svg>\n",
              "    </button>\n",
              "\n",
              "  <style>\n",
              "    .colab-df-container {\n",
              "      display:flex;\n",
              "      gap: 12px;\n",
              "    }\n",
              "\n",
              "    .colab-df-convert {\n",
              "      background-color: #E8F0FE;\n",
              "      border: none;\n",
              "      border-radius: 50%;\n",
              "      cursor: pointer;\n",
              "      display: none;\n",
              "      fill: #1967D2;\n",
              "      height: 32px;\n",
              "      padding: 0 0 0 0;\n",
              "      width: 32px;\n",
              "    }\n",
              "\n",
              "    .colab-df-convert:hover {\n",
              "      background-color: #E2EBFA;\n",
              "      box-shadow: 0px 1px 2px rgba(60, 64, 67, 0.3), 0px 1px 3px 1px rgba(60, 64, 67, 0.15);\n",
              "      fill: #174EA6;\n",
              "    }\n",
              "\n",
              "    .colab-df-buttons div {\n",
              "      margin-bottom: 4px;\n",
              "    }\n",
              "\n",
              "    [theme=dark] .colab-df-convert {\n",
              "      background-color: #3B4455;\n",
              "      fill: #D2E3FC;\n",
              "    }\n",
              "\n",
              "    [theme=dark] .colab-df-convert:hover {\n",
              "      background-color: #434B5C;\n",
              "      box-shadow: 0px 1px 3px 1px rgba(0, 0, 0, 0.15);\n",
              "      filter: drop-shadow(0px 1px 2px rgba(0, 0, 0, 0.3));\n",
              "      fill: #FFFFFF;\n",
              "    }\n",
              "  </style>\n",
              "\n",
              "    <script>\n",
              "      const buttonEl =\n",
              "        document.querySelector('#df-30c314d4-d933-43e6-9b4d-8c55b3df0b50 button.colab-df-convert');\n",
              "      buttonEl.style.display =\n",
              "        google.colab.kernel.accessAllowed ? 'block' : 'none';\n",
              "\n",
              "      async function convertToInteractive(key) {\n",
              "        const element = document.querySelector('#df-30c314d4-d933-43e6-9b4d-8c55b3df0b50');\n",
              "        const dataTable =\n",
              "          await google.colab.kernel.invokeFunction('convertToInteractive',\n",
              "                                                    [key], {});\n",
              "        if (!dataTable) return;\n",
              "\n",
              "        const docLinkHtml = 'Like what you see? Visit the ' +\n",
              "          '<a target=\"_blank\" href=https://colab.research.google.com/notebooks/data_table.ipynb>data table notebook</a>'\n",
              "          + ' to learn more about interactive tables.';\n",
              "        element.innerHTML = '';\n",
              "        dataTable['output_type'] = 'display_data';\n",
              "        await google.colab.output.renderOutput(dataTable, element);\n",
              "        const docLink = document.createElement('div');\n",
              "        docLink.innerHTML = docLinkHtml;\n",
              "        element.appendChild(docLink);\n",
              "      }\n",
              "    </script>\n",
              "  </div>\n",
              "\n",
              "\n",
              "<div id=\"df-8c9ab6c9-49b2-4287-b172-919f787b0469\">\n",
              "  <button class=\"colab-df-quickchart\" onclick=\"quickchart('df-8c9ab6c9-49b2-4287-b172-919f787b0469')\"\n",
              "            title=\"Suggest charts\"\n",
              "            style=\"display:none;\">\n",
              "\n",
              "<svg xmlns=\"http://www.w3.org/2000/svg\" height=\"24px\"viewBox=\"0 0 24 24\"\n",
              "     width=\"24px\">\n",
              "    <g>\n",
              "        <path d=\"M19 3H5c-1.1 0-2 .9-2 2v14c0 1.1.9 2 2 2h14c1.1 0 2-.9 2-2V5c0-1.1-.9-2-2-2zM9 17H7v-7h2v7zm4 0h-2V7h2v10zm4 0h-2v-4h2v4z\"/>\n",
              "    </g>\n",
              "</svg>\n",
              "  </button>\n",
              "\n",
              "<style>\n",
              "  .colab-df-quickchart {\n",
              "      --bg-color: #E8F0FE;\n",
              "      --fill-color: #1967D2;\n",
              "      --hover-bg-color: #E2EBFA;\n",
              "      --hover-fill-color: #174EA6;\n",
              "      --disabled-fill-color: #AAA;\n",
              "      --disabled-bg-color: #DDD;\n",
              "  }\n",
              "\n",
              "  [theme=dark] .colab-df-quickchart {\n",
              "      --bg-color: #3B4455;\n",
              "      --fill-color: #D2E3FC;\n",
              "      --hover-bg-color: #434B5C;\n",
              "      --hover-fill-color: #FFFFFF;\n",
              "      --disabled-bg-color: #3B4455;\n",
              "      --disabled-fill-color: #666;\n",
              "  }\n",
              "\n",
              "  .colab-df-quickchart {\n",
              "    background-color: var(--bg-color);\n",
              "    border: none;\n",
              "    border-radius: 50%;\n",
              "    cursor: pointer;\n",
              "    display: none;\n",
              "    fill: var(--fill-color);\n",
              "    height: 32px;\n",
              "    padding: 0;\n",
              "    width: 32px;\n",
              "  }\n",
              "\n",
              "  .colab-df-quickchart:hover {\n",
              "    background-color: var(--hover-bg-color);\n",
              "    box-shadow: 0 1px 2px rgba(60, 64, 67, 0.3), 0 1px 3px 1px rgba(60, 64, 67, 0.15);\n",
              "    fill: var(--button-hover-fill-color);\n",
              "  }\n",
              "\n",
              "  .colab-df-quickchart-complete:disabled,\n",
              "  .colab-df-quickchart-complete:disabled:hover {\n",
              "    background-color: var(--disabled-bg-color);\n",
              "    fill: var(--disabled-fill-color);\n",
              "    box-shadow: none;\n",
              "  }\n",
              "\n",
              "  .colab-df-spinner {\n",
              "    border: 2px solid var(--fill-color);\n",
              "    border-color: transparent;\n",
              "    border-bottom-color: var(--fill-color);\n",
              "    animation:\n",
              "      spin 1s steps(1) infinite;\n",
              "  }\n",
              "\n",
              "  @keyframes spin {\n",
              "    0% {\n",
              "      border-color: transparent;\n",
              "      border-bottom-color: var(--fill-color);\n",
              "      border-left-color: var(--fill-color);\n",
              "    }\n",
              "    20% {\n",
              "      border-color: transparent;\n",
              "      border-left-color: var(--fill-color);\n",
              "      border-top-color: var(--fill-color);\n",
              "    }\n",
              "    30% {\n",
              "      border-color: transparent;\n",
              "      border-left-color: var(--fill-color);\n",
              "      border-top-color: var(--fill-color);\n",
              "      border-right-color: var(--fill-color);\n",
              "    }\n",
              "    40% {\n",
              "      border-color: transparent;\n",
              "      border-right-color: var(--fill-color);\n",
              "      border-top-color: var(--fill-color);\n",
              "    }\n",
              "    60% {\n",
              "      border-color: transparent;\n",
              "      border-right-color: var(--fill-color);\n",
              "    }\n",
              "    80% {\n",
              "      border-color: transparent;\n",
              "      border-right-color: var(--fill-color);\n",
              "      border-bottom-color: var(--fill-color);\n",
              "    }\n",
              "    90% {\n",
              "      border-color: transparent;\n",
              "      border-bottom-color: var(--fill-color);\n",
              "    }\n",
              "  }\n",
              "</style>\n",
              "\n",
              "  <script>\n",
              "    async function quickchart(key) {\n",
              "      const quickchartButtonEl =\n",
              "        document.querySelector('#' + key + ' button');\n",
              "      quickchartButtonEl.disabled = true;  // To prevent multiple clicks.\n",
              "      quickchartButtonEl.classList.add('colab-df-spinner');\n",
              "      try {\n",
              "        const charts = await google.colab.kernel.invokeFunction(\n",
              "            'suggestCharts', [key], {});\n",
              "      } catch (error) {\n",
              "        console.error('Error during call to suggestCharts:', error);\n",
              "      }\n",
              "      quickchartButtonEl.classList.remove('colab-df-spinner');\n",
              "      quickchartButtonEl.classList.add('colab-df-quickchart-complete');\n",
              "    }\n",
              "    (() => {\n",
              "      let quickchartButtonEl =\n",
              "        document.querySelector('#df-8c9ab6c9-49b2-4287-b172-919f787b0469 button');\n",
              "      quickchartButtonEl.style.display =\n",
              "        google.colab.kernel.accessAllowed ? 'block' : 'none';\n",
              "    })();\n",
              "  </script>\n",
              "</div>\n",
              "\n",
              "  <div id=\"id_67a0f736-4ea7-464c-8128-c64f915e3bc0\">\n",
              "    <style>\n",
              "      .colab-df-generate {\n",
              "        background-color: #E8F0FE;\n",
              "        border: none;\n",
              "        border-radius: 50%;\n",
              "        cursor: pointer;\n",
              "        display: none;\n",
              "        fill: #1967D2;\n",
              "        height: 32px;\n",
              "        padding: 0 0 0 0;\n",
              "        width: 32px;\n",
              "      }\n",
              "\n",
              "      .colab-df-generate:hover {\n",
              "        background-color: #E2EBFA;\n",
              "        box-shadow: 0px 1px 2px rgba(60, 64, 67, 0.3), 0px 1px 3px 1px rgba(60, 64, 67, 0.15);\n",
              "        fill: #174EA6;\n",
              "      }\n",
              "\n",
              "      [theme=dark] .colab-df-generate {\n",
              "        background-color: #3B4455;\n",
              "        fill: #D2E3FC;\n",
              "      }\n",
              "\n",
              "      [theme=dark] .colab-df-generate:hover {\n",
              "        background-color: #434B5C;\n",
              "        box-shadow: 0px 1px 3px 1px rgba(0, 0, 0, 0.15);\n",
              "        filter: drop-shadow(0px 1px 2px rgba(0, 0, 0, 0.3));\n",
              "        fill: #FFFFFF;\n",
              "      }\n",
              "    </style>\n",
              "    <button class=\"colab-df-generate\" onclick=\"generateWithVariable('df')\"\n",
              "            title=\"Generate code using this dataframe.\"\n",
              "            style=\"display:none;\">\n",
              "\n",
              "  <svg xmlns=\"http://www.w3.org/2000/svg\" height=\"24px\"viewBox=\"0 0 24 24\"\n",
              "       width=\"24px\">\n",
              "    <path d=\"M7,19H8.4L18.45,9,17,7.55,7,17.6ZM5,21V16.75L18.45,3.32a2,2,0,0,1,2.83,0l1.4,1.43a1.91,1.91,0,0,1,.58,1.4,1.91,1.91,0,0,1-.58,1.4L9.25,21ZM18.45,9,17,7.55Zm-12,3A5.31,5.31,0,0,0,4.9,8.1,5.31,5.31,0,0,0,1,6.5,5.31,5.31,0,0,0,4.9,4.9,5.31,5.31,0,0,0,6.5,1,5.31,5.31,0,0,0,8.1,4.9,5.31,5.31,0,0,0,12,6.5,5.46,5.46,0,0,0,6.5,12Z\"/>\n",
              "  </svg>\n",
              "    </button>\n",
              "    <script>\n",
              "      (() => {\n",
              "      const buttonEl =\n",
              "        document.querySelector('#id_67a0f736-4ea7-464c-8128-c64f915e3bc0 button.colab-df-generate');\n",
              "      buttonEl.style.display =\n",
              "        google.colab.kernel.accessAllowed ? 'block' : 'none';\n",
              "\n",
              "      buttonEl.onclick = () => {\n",
              "        google.colab.notebook.generateWithVariable('df');\n",
              "      }\n",
              "      })();\n",
              "    </script>\n",
              "  </div>\n",
              "\n",
              "    </div>\n",
              "  </div>\n"
            ],
            "application/vnd.google.colaboratory.intrinsic+json": {
              "type": "dataframe",
              "variable_name": "df",
              "summary": "{\n  \"name\": \"df\",\n  \"rows\": 5,\n  \"fields\": [\n    {\n      \"column\": \"Edad\",\n      \"properties\": {\n        \"dtype\": \"number\",\n        \"std\": 7,\n        \"min\": 25,\n        \"max\": 45,\n        \"num_unique_values\": 5,\n        \"samples\": [\n          30,\n          45,\n          35\n        ],\n        \"semantic_type\": \"\",\n        \"description\": \"\"\n      }\n    },\n    {\n      \"column\": \"Peso\",\n      \"properties\": {\n        \"dtype\": \"number\",\n        \"std\": 9,\n        \"min\": 65,\n        \"max\": 90,\n        \"num_unique_values\": 5,\n        \"samples\": [\n          65,\n          90,\n          80\n        ],\n        \"semantic_type\": \"\",\n        \"description\": \"\"\n      }\n    },\n    {\n      \"column\": \"Altura\",\n      \"properties\": {\n        \"dtype\": \"number\",\n        \"std\": 7,\n        \"min\": 165,\n        \"max\": 185,\n        \"num_unique_values\": 5,\n        \"samples\": [\n          175,\n          170,\n          165\n        ],\n        \"semantic_type\": \"\",\n        \"description\": \"\"\n      }\n    }\n  ]\n}"
            }
          },
          "metadata": {},
          "execution_count": 29
        }
      ]
    }
  ]
}