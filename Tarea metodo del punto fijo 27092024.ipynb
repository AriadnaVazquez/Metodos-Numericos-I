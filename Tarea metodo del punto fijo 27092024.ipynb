{
  "cells": [
    {
      "cell_type": "markdown",
      "metadata": {
        "id": "view-in-github",
        "colab_type": "text"
      },
      "source": [
        "<a href=\"https://colab.research.google.com/github/AriadnaVazquez/Metodos-Numericos-I/blob/main/Tarea%20metodo%20del%20punto%20fijo%2027092024.ipynb\" target=\"_parent\"><img src=\"https://colab.research.google.com/assets/colab-badge.svg\" alt=\"Open In Colab\"/></a>"
      ]
    },
    {
      "cell_type": "code",
      "source": [
        "from math import sqrt\n",
        "import numpy as np"
      ],
      "metadata": {
        "id": "v_6eRe41LuDE"
      },
      "execution_count": 97,
      "outputs": []
    },
    {
      "cell_type": "code",
      "source": [
        "#Definir la función original f(x)\n",
        "def funcion1(x):\n",
        "  return x**3 - x - 1"
      ],
      "metadata": {
        "id": "2YXUHqCHOnHc"
      },
      "execution_count": 98,
      "outputs": []
    },
    {
      "cell_type": "code",
      "source": [
        "#Definir la función g(p) para realizar el método del punto fijo\n",
        "def funcion_g(p):\n",
        "  return sqrt(p+1)"
      ],
      "metadata": {
        "id": "rtjfruX9O2m2"
      },
      "execution_count": 99,
      "outputs": []
    },
    {
      "cell_type": "code",
      "source": [
        "#Ingreso de datos de entrada\n",
        "a=1\n",
        "b=2\n",
        "\n",
        "#Guarda los valores iniciales\n",
        "a0=a\n",
        "b0=b\n",
        "\n",
        "#Guarda valores iniciales del error y del número de iteraciones\n",
        "tol=1e-2 #Representa la tolerancia\n",
        "nmax=100 #Representa el número máximo de iteraciones\n",
        "error=100 #Indica que nuestro error comienza en 100\n",
        "niter=1 #Es el encargado de contar las iteraciones"
      ],
      "metadata": {
        "id": "7KayQk7aPMVW"
      },
      "execution_count": 104,
      "outputs": []
    },
    {
      "cell_type": "code",
      "source": [
        "#Método del punto fijo\n",
        "\n",
        "#Primer valor de p\n",
        "p=1\n",
        "g_p=funcion_g(p)\n",
        "\n",
        "#Encabezado de la tabla\n",
        "print(\"# iter \\t\\t p \\t\\t g(p) \\t\\t Error\")\n",
        "print(\"{0} \\t\\t {1:6.6f} \\t {2:6.6f} \\t {3:6.6f}\".format(niter,p,g_p,error))\n",
        "\n",
        "#Ciclo iterativo\n",
        "while error > tol and niter < nmax:\n",
        "  niter+=1\n",
        "  #Aquí se actualiza el valor de p y calcular g(p)\n",
        "  p_anterior=p\n",
        "  p=funcion_g(p)\n",
        "  g_p=funcion_g(p)\n",
        "\n",
        "  #Calcular el error\n",
        "  error=abs(p-p_anterior)\n",
        "\n",
        "  #Imprimir los valores de la iteración\n",
        "  print(\"{0} \\t\\t {1:6.6f} \\t {2:6.6f} \\t {3:6.6f}\".format(niter,p,g_p,error))\n",
        "\n",
        "  #Resultado final\n",
        "print(\"\\nLa raíz de la función dada en el intervalo [{0:6.6f},{1:6.6f}] es: {2:6.6f}\".format(a0,b0,p))"
      ],
      "metadata": {
        "id": "zEZopt8ORQjm",
        "outputId": "d844aae9-1ee3-4a38-903c-86a76f33a95e",
        "colab": {
          "base_uri": "https://localhost:8080/"
        }
      },
      "execution_count": 105,
      "outputs": [
        {
          "output_type": "stream",
          "name": "stdout",
          "text": [
            "# iter \t\t p \t\t g(p) \t\t Error\n",
            "1 \t\t 1.000000 \t 1.414214 \t 100.000000\n",
            "2 \t\t 1.414214 \t 1.553774 \t 0.414214\n",
            "3 \t\t 1.553774 \t 1.598053 \t 0.139560\n",
            "4 \t\t 1.598053 \t 1.611848 \t 0.044279\n",
            "5 \t\t 1.611848 \t 1.616121 \t 0.013795\n",
            "6 \t\t 1.616121 \t 1.617443 \t 0.004273\n",
            "\n",
            "La raíz de la función dada en el intervalo [1.000000,2.000000] es: 1.616121\n"
          ]
        }
      ]
    }
  ],
  "metadata": {
    "colab": {
      "name": "Te damos la bienvenida a Colaboratory",
      "toc_visible": true,
      "provenance": [],
      "include_colab_link": true
    },
    "kernelspec": {
      "display_name": "Python 3",
      "name": "python3"
    }
  },
  "nbformat": 4,
  "nbformat_minor": 0
}