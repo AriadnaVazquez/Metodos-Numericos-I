{
  "nbformat": 4,
  "nbformat_minor": 0,
  "metadata": {
    "colab": {
      "provenance": [],
      "authorship_tag": "ABX9TyNDPwWQ3z15497PtqGe0mIc",
      "include_colab_link": true
    },
    "kernelspec": {
      "name": "python3",
      "display_name": "Python 3"
    },
    "language_info": {
      "name": "python"
    }
  },
  "cells": [
    {
      "cell_type": "markdown",
      "metadata": {
        "id": "view-in-github",
        "colab_type": "text"
      },
      "source": [
        "<a href=\"https://colab.research.google.com/github/AriadnaVazquez/Metodos-Numericos-I/blob/main/Pivoteo%20parcial%20escalado.ipynb\" target=\"_parent\"><img src=\"https://colab.research.google.com/assets/colab-badge.svg\" alt=\"Open In Colab\"/></a>"
      ]
    },
    {
      "cell_type": "code",
      "execution_count": 1,
      "metadata": {
        "colab": {
          "base_uri": "https://localhost:8080/"
        },
        "id": "W5249EScXrK4",
        "outputId": "7c7321dc-a5e1-4f24-a7ab-d1b2d656920a"
      },
      "outputs": [
        {
          "output_type": "stream",
          "name": "stdout",
          "text": [
            "Solución del sistema:\n",
            "x_1 = -0.432\n",
            "x_2 = 0.427\n",
            "x_3 = 5.120\n"
          ]
        }
      ],
      "source": [
        "import numpy as np\n",
        "\n",
        "def gaussian_elimination_with_significant_rounding(A, b, significant_digits=3):\n",
        "    \"\"\"\n",
        "    Eliminación Gaussiana con pivoteo parcial escalado, aplicando redondeo\n",
        "    a cifras significativas después de cada operación.\n",
        "\n",
        "    Parámetros:\n",
        "        A (numpy.ndarray): Matriz de coeficientes del sistema lineal.\n",
        "        b (numpy.ndarray): Vector de términos independientes.\n",
        "        significant_digits (int): Número de cifras significativas para redondeo.\n",
        "\n",
        "    Retorna:\n",
        "        numpy.ndarray: Solución del sistema lineal Ax = b.\n",
        "    \"\"\"\n",
        "    def round_to_significant(x, sig_digits):\n",
        "        \"\"\"Redondeo a cifras significativas.\"\"\"\n",
        "        return np.round(x, sig_digits - int(np.floor(np.log10(abs(x)))) - 1) if x != 0 else 0\n",
        "\n",
        "    n = len(b)\n",
        "    A = A.copy()\n",
        "    b = b.copy()\n",
        "\n",
        "    # Redondear la matriz inicial y el vector independiente a cifras significativas\n",
        "    A = np.vectorize(lambda x: round_to_significant(x, significant_digits))(A)\n",
        "    b = np.vectorize(lambda x: round_to_significant(x, significant_digits))(b)\n",
        "\n",
        "    # Extender la matriz A con b para realizar las operaciones simultáneamente\n",
        "    Ab = np.hstack((A, b.reshape(-1, 1)))\n",
        "\n",
        "    # Paso 1: Escalamiento y determinación inicial\n",
        "    s = np.max(np.abs(A), axis=1)  # Vector de escalas\n",
        "    if np.any(s == 0):\n",
        "        raise ValueError(\"No existe solución única: escala cero detectada.\")\n",
        "\n",
        "    # Vector de índices que representa el orden de las filas\n",
        "    NROW = np.arange(n)\n",
        "\n",
        "    # Proceso de eliminación\n",
        "    for i in range(n - 1):\n",
        "        # Paso 2: Determinación del pivote escalado\n",
        "        ratios = np.abs(Ab[NROW[i:], i]) / s[NROW[i:]]\n",
        "        p = i + np.argmax(ratios)  # Índice del máximo elemento escalado\n",
        "\n",
        "        # Intercambio de filas\n",
        "        if p != i:\n",
        "            NROW[i], NROW[p] = NROW[p], NROW[i]\n",
        "\n",
        "        # Paso 3: Eliminación hacia adelante\n",
        "        for j in range(i + 1, n):\n",
        "            factor = round_to_significant(Ab[NROW[j], i] / Ab[NROW[i], i], significant_digits)\n",
        "            Ab[NROW[j], i:] = np.vectorize(lambda x: round_to_significant(x, significant_digits))(\n",
        "                Ab[NROW[j], i:] - factor * Ab[NROW[i], i:]\n",
        "            )\n",
        "\n",
        "    # Sustitución hacia atrás\n",
        "    x = np.zeros(n)\n",
        "    for i in range(n - 1, -1, -1):\n",
        "        x[i] = round_to_significant(\n",
        "            (Ab[NROW[i], -1] - np.dot(Ab[NROW[i], i + 1:n], x[i + 1:])) / Ab[NROW[i], i],\n",
        "            significant_digits\n",
        "        )\n",
        "\n",
        "    return x\n",
        "\n",
        "\n",
        "# Datos del sistema (matriz de coeficientes y vector independiente)\n",
        "A = np.array([\n",
        "    [2.11, -4.21, 0.921],\n",
        "    [4.01, 10.2, -1.12],\n",
        "    [1.09, 0.987, 0.832]\n",
        "])\n",
        "\n",
        "b = np.array([2.01, -3.09, 4.21])\n",
        "\n",
        "# Resolviendo el sistema ajustando a 3 cifras significativas\n",
        "solution_with_significant_rounding = gaussian_elimination_with_significant_rounding(A, b, significant_digits=3)\n",
        "\n",
        "# Mostrando la solución\n",
        "print(\"Solución del sistema:\")\n",
        "for i, val in enumerate(solution_with_significant_rounding, start=1):\n",
        "    print(f\"x_{i} = {val:.3f}\")"
      ]
    }
  ]
}