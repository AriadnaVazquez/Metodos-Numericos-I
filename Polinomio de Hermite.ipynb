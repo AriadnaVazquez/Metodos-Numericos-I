{
  "nbformat": 4,
  "nbformat_minor": 0,
  "metadata": {
    "colab": {
      "provenance": [],
      "authorship_tag": "ABX9TyMsrsP4LqSbNFxGR7tPIajY",
      "include_colab_link": true
    },
    "kernelspec": {
      "name": "python3",
      "display_name": "Python 3"
    },
    "language_info": {
      "name": "python"
    }
  },
  "cells": [
    {
      "cell_type": "markdown",
      "metadata": {
        "id": "view-in-github",
        "colab_type": "text"
      },
      "source": [
        "<a href=\"https://colab.research.google.com/github/AriadnaVazquez/Metodos-Numericos-I/blob/main/Polinomio%20de%20Hermite.ipynb\" target=\"_parent\"><img src=\"https://colab.research.google.com/assets/colab-badge.svg\" alt=\"Open In Colab\"/></a>"
      ]
    },
    {
      "cell_type": "code",
      "source": [
        "# Método de interpolación de Hermite\n",
        "\n",
        "def hermite_interpolation(x, fx):\n",
        "    \"\"\"\n",
        "    Esta función calcula el polinomio de Hermite usando diferencias divididas.\n",
        "    Args:\n",
        "        x: Lista con los puntos (valores de x).\n",
        "        fx: Lista con los valores de la función f(x) en cada punto x.\n",
        "\n",
        "    Returns:\n",
        "        Una función que representa el polinomio de Hermite,\n",
        "        que se puede usar para calcular valores aproximados.\n",
        "    \"\"\"\n",
        "    n = len(x)  # Número de puntos que tenemos\n",
        "    z = [0] * (2 * n)  # Crear un vector duplicado para manejar los nodos repetidos\n",
        "    Q = [[0] * (2 * n) for _ in range(2 * n)]  # Crear la tabla de diferencias divididas\n",
        "\n",
        "    # Paso 1: Iniciar el vector z y la tabla Q con los valores de entrada\n",
        "    for i in range(n):\n",
        "        z[2 * i] = z[2 * i + 1] = x[i]  # Duplicar los nodos en z\n",
        "        Q[2 * i][0] = Q[2 * i + 1][0] = fx[i]  # Colocar f(x) en la primera columna de Q\n",
        "\n",
        "        # Si es el primer nodo, no calculamos nada más;\n",
        "        # Si no, calcular la derivada estimada (dif. dividida inicial)\n",
        "        if i > 0:\n",
        "            Q[2 * i + 1][1] = (fx[i] - fx[i - 1]) / (x[i] - x[i - 1])  # Diferencia dividida\n",
        "\n",
        "    # Paso 2: Calcular el resto de las diferencias divididas\n",
        "    # Esto llena la tabla Q usando la fórmula recursiva\n",
        "    for j in range(2, 2 * n):  # Iterar sobre columnas de la tabla\n",
        "        for i in range(2 * n - j):  # Iterar sobre filas\n",
        "            # Fórmula de diferencias divididas\n",
        "            Q[i][j] = (Q[i + 1][j - 1] - Q[i][j - 1]) / (z[i + j] - z[i])\n",
        "\n",
        "    # Paso 3: Crear la función del polinomio de Hermite\n",
        "    def hermite_polynomial(value):\n",
        "        \"\"\"\n",
        "        Evaluar el polinomio de Hermite en un valor específico.\n",
        "        \"\"\"\n",
        "        result = Q[0][0]  # Primer término del polinomio\n",
        "        product = 1.0  # Variable para acumular productos (x - z0)(x - z1)...\n",
        "        for i in range(1, 2 * n):\n",
        "            product *= (value - z[i - 1])  # Multiplicar por (x - zi)\n",
        "            result += Q[0][i] * product  # Sumar el siguiente término al polinomio\n",
        "        return result\n",
        "\n",
        "    return hermite_polynomial  # Devolver la función que representa el polinomio\n",
        "\n",
        "\n",
        "# Datos de la tabla 3.5\n",
        "x = [1.0, 1.3, 1.6, 1.9, 2.2]\n",
        "fx = [0.7651977, 0.6200860, 0.4554022, 0.2818186, 0.1103623]\n",
        "\n",
        "# Crear el polinomio de Hermite con los datos\n",
        "hermite_poly = hermite_interpolation(x, fx)\n",
        "\n",
        "approx_value = hermite_poly(1.5)  # Evaluamos el polinomio en x = 1.5\n",
        "\n",
        "# Mostrar el resultado\n",
        "print(f\"La aproximación de f(1.5) es: {approx_value:.7f}\")"
      ],
      "metadata": {
        "colab": {
          "base_uri": "https://localhost:8080/"
        },
        "id": "beRV4yxtJ1sU",
        "outputId": "723342d9-c1b2-4dba-c673-1eb1b253d704"
      },
      "execution_count": 8,
      "outputs": [
        {
          "output_type": "stream",
          "name": "stdout",
          "text": [
            "La aproximación de f(1.5) es: 0.6339198\n"
          ]
        }
      ]
    }
  ]
}