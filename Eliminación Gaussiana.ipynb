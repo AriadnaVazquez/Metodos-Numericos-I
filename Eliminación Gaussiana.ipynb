{
  "nbformat": 4,
  "nbformat_minor": 0,
  "metadata": {
    "colab": {
      "provenance": [],
      "authorship_tag": "ABX9TyNr5kQW7/mTHVa0WcoIHNmn",
      "include_colab_link": true
    },
    "kernelspec": {
      "name": "python3",
      "display_name": "Python 3"
    },
    "language_info": {
      "name": "python"
    }
  },
  "cells": [
    {
      "cell_type": "markdown",
      "metadata": {
        "id": "view-in-github",
        "colab_type": "text"
      },
      "source": [
        "<a href=\"https://colab.research.google.com/github/AriadnaVazquez/Metodos-Numericos-I/blob/main/Eliminaci%C3%B3n%20Gaussiana.ipynb\" target=\"_parent\"><img src=\"https://colab.research.google.com/assets/colab-badge.svg\" alt=\"Open In Colab\"/></a>"
      ]
    },
    {
      "cell_type": "code",
      "source": [
        "import numpy as np\n",
        "\n",
        "def gauss_elimination(A):\n",
        "    \"\"\"\n",
        "    Implementa el método de eliminación Gaussiana con sustitución hacia atrás\n",
        "    para resolver un sistema de ecuaciones lineales.\n",
        "\n",
        "    Parámetros:\n",
        "    A : np.ndarray\n",
        "        Matriz aumentada del sistema lineal (nx(n+1)).\n",
        "\n",
        "    Retorna:\n",
        "    x : np.ndarray\n",
        "        Vector de soluciones si existe una solución única.\n",
        "    \"\"\"\n",
        "    n = A.shape[0]  # Número de incógnitas (filas de A)\n",
        "\n",
        "    # Proceso de Eliminación Gaussiana\n",
        "    print(\"Proceso de Eliminación Gaussiana:\")\n",
        "    for i in range(n - 1):\n",
        "        # Selección del pivote\n",
        "        pivot = A[i, i]\n",
        "        if pivot == 0:\n",
        "            raise ValueError(\"El pivote es cero. El sistema no tiene solución única.\")\n",
        "\n",
        "        # Eliminación de los elementos debajo del pivote\n",
        "        for j in range(i + 1, n):\n",
        "            factor = A[j, i] / A[i, i]\n",
        "            A[j, i:] = A[j, i:] - factor * A[i, i:]\n",
        "\n",
        "        # Imprimir la matriz en cada paso\n",
        "        print(f\"\\nMatriz después de la eliminación en la columna {i + 1}:\")\n",
        "        print(A)\n",
        "\n",
        "    # Verificación del último pivote\n",
        "    if A[n - 1, n - 1] == 0:\n",
        "        raise ValueError(\"No existe una solución única (último pivote nulo).\")\n",
        "\n",
        "    # Sustitución hacia atrás\n",
        "    print(\"\\nProceso de Sustitución Hacia Atrás:\")\n",
        "    x = np.zeros(n)\n",
        "    for i in range(n - 1, -1, -1):\n",
        "        suma = np.dot(A[i, i + 1:n], x[i + 1:n])  # Suma de los términos conocidos\n",
        "        x[i] = (A[i, -1] - suma) / A[i, i]\n",
        "        print(f\"x_{i + 1} = {x[i]:.4f}\")  # Imprime el valor de x_i en cada paso\n",
        "\n",
        "    return x\n",
        "\n",
        "\n",
        "# ===========================\n",
        "# Ejemplo de uso\n",
        "# ===========================\n",
        "if __name__ == \"__main__\":\n",
        "    # Definimos la matriz aumentada A del sistema lineal dado:\n",
        "    A = np.array([\n",
        "        [1, -1, 2, -1, -8],\n",
        "        [2, -2, 3, -3, -20],\n",
        "        [1, 1, 1, 0, -2],\n",
        "        [1, -1, 4, 3, 4]\n",
        "    ], dtype=float)\n",
        "\n",
        "    print(\"Matriz Aumentada Inicial:\")\n",
        "    print(A)\n",
        "\n",
        "    try:\n",
        "        # Llamamos a la función para resolver el sistema\n",
        "        solution = gauss_elimination(A)\n",
        "\n",
        "        # Imprimimos la solución final\n",
        "        print(\"\\nLa solución del sistema lineal es:\")\n",
        "        for i, val in enumerate(solution):\n",
        "            print(f\"x_{i+1} = {val:.4f}\")\n",
        "    except ValueError as e:\n",
        "        print(e)"
      ],
      "metadata": {
        "colab": {
          "base_uri": "https://localhost:8080/"
        },
        "id": "N4iO02ojJERQ",
        "outputId": "323fb8dd-d726-4f89-8a8b-f86c9ad7f58a"
      },
      "execution_count": 5,
      "outputs": [
        {
          "output_type": "stream",
          "name": "stdout",
          "text": [
            "Matriz Aumentada Inicial:\n",
            "[[  1.  -1.   2.  -1.  -8.]\n",
            " [  2.  -2.   3.  -3. -20.]\n",
            " [  1.   1.   1.   0.  -2.]\n",
            " [  1.  -1.   4.   3.   4.]]\n",
            "Proceso de Eliminación Gaussiana:\n",
            "\n",
            "Matriz después de la eliminación en la columna 1:\n",
            "[[ 1. -1.  2. -1. -8.]\n",
            " [ 0.  0. -1. -1. -4.]\n",
            " [ 0.  2. -1.  1.  6.]\n",
            " [ 0.  0.  2.  4. 12.]]\n",
            "El pivote es cero. El sistema no tiene solución única.\n"
          ]
        }
      ]
    }
  ]
}