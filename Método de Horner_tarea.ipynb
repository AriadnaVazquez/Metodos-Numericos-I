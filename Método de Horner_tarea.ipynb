{
  "nbformat": 4,
  "nbformat_minor": 0,
  "metadata": {
    "colab": {
      "provenance": [],
      "authorship_tag": "ABX9TyO27Um4EtM1SoD9QCkIp6Xo",
      "include_colab_link": true
    },
    "kernelspec": {
      "name": "python3",
      "display_name": "Python 3"
    },
    "language_info": {
      "name": "python"
    }
  },
  "cells": [
    {
      "cell_type": "markdown",
      "metadata": {
        "id": "view-in-github",
        "colab_type": "text"
      },
      "source": [
        "<a href=\"https://colab.research.google.com/github/AriadnaVazquez/Metodos-Numericos-I/blob/main/M%C3%A9todo%20de%20Horner_tarea.ipynb\" target=\"_parent\"><img src=\"https://colab.research.google.com/assets/colab-badge.svg\" alt=\"Open In Colab\"/></a>"
      ]
    },
    {
      "cell_type": "code",
      "execution_count": 1,
      "metadata": {
        "id": "e8SqbrYybm23"
      },
      "outputs": [],
      "source": [
        "# Definimos el polinomio P(x) = 2x^4 - 3x^2 + 3x - 4\n",
        "def polinomio(x):\n",
        "    return 2 * x**4 - 3 * x**2 + 3 * x - 4"
      ]
    },
    {
      "cell_type": "code",
      "source": [
        "# Derivada del polinomio P'(x) = 8x^3 - 6x + 3\n",
        "def derivada(x):\n",
        "    return 8 * x**3 - 6 * x + 3"
      ],
      "metadata": {
        "id": "RiFbKkB_bpro"
      },
      "execution_count": 2,
      "outputs": []
    },
    {
      "cell_type": "code",
      "source": [
        "def newton(x0, tolerancia=1e-6, max_iteraciones=100):\n",
        "    xn = x0\n",
        "    for i in range(max_iteraciones):\n",
        "        fxn = polinomio(xn)\n",
        "        dfxn = derivada(xn)\n",
        "\n",
        "        # Mostrar resultados de la iteración\n",
        "        print(f\"Iteración {i+1}: Xn = {xn:.4f}, P(Xn) = {fxn:.4f}, P'(Xn) = {dfxn:.4f}\")\n",
        "\n",
        "        # Verificar si hemos alcanzado la convergencia\n",
        "        if abs(fxn) < tolerancia:\n",
        "            return xn\n",
        "\n",
        "        # Actualizar el valor de xn utilizando el método de Newton\n",
        "        xn_nuevo = xn - fxn / dfxn\n",
        "\n",
        "        # Verificar si la diferencia entre iteraciones es suficientemente pequeña\n",
        "        if abs(xn_nuevo - xn) < tolerancia:\n",
        "            return xn_nuevo\n",
        "\n",
        "        # Actualizar xn para la siguiente iteración\n",
        "        xn = xn_nuevo\n",
        "\n",
        "    print(\"No se encontró una raíz dentro de la tolerancia después de\", max_iteraciones, \"iteraciones.\")\n",
        "    return None\n",
        "\n",
        "# Aproximación inicial\n",
        "x0 = -2\n",
        "\n",
        "# Ejecutamos el método de Newton\n",
        "raiz = newton(x0)\n",
        "print(f\"Raíz aproximada: {raiz:.4f}\")"
      ],
      "metadata": {
        "colab": {
          "base_uri": "https://localhost:8080/"
        },
        "id": "09ipltavb3QN",
        "outputId": "419a58bd-951c-4ba7-ecc1-3b2f8db905bb"
      },
      "execution_count": 4,
      "outputs": [
        {
          "output_type": "stream",
          "name": "stdout",
          "text": [
            "Iteración 1: Xn = -2.0000, P(Xn) = 10.0000, P'(Xn) = -49.0000\n",
            "Iteración 2: Xn = -1.7959, P(Xn) = 1.7417, P'(Xn) = -32.5638\n",
            "Iteración 3: Xn = -1.7424, P(Xn) = 0.1000, P'(Xn) = -28.8666\n",
            "Iteración 4: Xn = -1.7390, P(Xn) = 0.0004, P'(Xn) = -28.6356\n",
            "Iteración 5: Xn = -1.7390, P(Xn) = 0.0000, P'(Xn) = -28.6347\n",
            "Raíz aproximada: -1.7390\n"
          ]
        }
      ]
    }
  ]
}