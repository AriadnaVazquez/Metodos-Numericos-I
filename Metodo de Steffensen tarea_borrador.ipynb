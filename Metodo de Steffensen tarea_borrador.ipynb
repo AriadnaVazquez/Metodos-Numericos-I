{
  "nbformat": 4,
  "nbformat_minor": 0,
  "metadata": {
    "colab": {
      "provenance": [],
      "authorship_tag": "ABX9TyPnNjvt5M9vZMkIxlCqlEzp",
      "include_colab_link": true
    },
    "kernelspec": {
      "name": "python3",
      "display_name": "Python 3"
    },
    "language_info": {
      "name": "python"
    }
  },
  "cells": [
    {
      "cell_type": "markdown",
      "metadata": {
        "id": "view-in-github",
        "colab_type": "text"
      },
      "source": [
        "<a href=\"https://colab.research.google.com/github/AriadnaVazquez/Metodos-Numericos-I/blob/main/Metodo%20de%20Steffensen%20tarea_borrador.ipynb\" target=\"_parent\"><img src=\"https://colab.research.google.com/assets/colab-badge.svg\" alt=\"Open In Colab\"/></a>"
      ]
    },
    {
      "cell_type": "code",
      "source": [
        "from math import cos\n",
        "\n",
        "# Definir la función Xn+1 usando la fórmula ((cos(Xn) + 3) / 2)\n",
        "def funcion_Xn1(Xn):\n",
        "    return (cos(Xn) + 3) / 2"
      ],
      "metadata": {
        "id": "avIZh9SG6zLN"
      },
      "execution_count": 9,
      "outputs": []
    },
    {
      "cell_type": "code",
      "source": [
        "# Ingreso de datos iniciales\n",
        "Xn = 1  # Valor inicial Xn = 1\n",
        "tol = 0.00001  # Tolerancia\n",
        "nmax = 14  # Número máximo de iteraciones (15 iteraciones en total)\n",
        "error = 1  # Error inicial (mayor que tol)"
      ],
      "metadata": {
        "id": "obLsWNvI61zr"
      },
      "execution_count": 10,
      "outputs": []
    },
    {
      "cell_type": "code",
      "source": [
        "# Encabezado de la tabla\n",
        "print(\"# iter\\t\\t Xn \\t\\t Xn+1 \\t\\t αn \\t\\t Error\")\n",
        "\n",
        "# Ciclo iterativo para el método\n",
        "for niter in range(nmax + 1):\n",
        "    # Calcular Xn+1 usando la función\n",
        "    Xn1 = funcion_Xn1(Xn)\n",
        "\n",
        "    # Calcular Xn+2 para usar en el cálculo de αn\n",
        "    Xn2 = funcion_Xn1(Xn1)\n",
        "\n",
        "    # Calcular el error\n",
        "    if niter == 0:\n",
        "        error = 0  # En la primera iteración el error es cero\n",
        "    else:\n",
        "        error = abs(Xn1 - Xn)\n",
        "\n",
        "    # Calcular αn usando la fórmula de Steffensen\n",
        "    if niter == 0:\n",
        "        alpha_n = 0\n",
        "    elif niter < nmax:  # Corrección: if niter < nmax\n",
        "        alpha_n = (Xn1 - Xn) ** 2 / (Xn2 - 2 * Xn1 + Xn)\n",
        "    else:\n",
        "        alpha_n = 0  # No se calcula αn en la última iteración\n",
        "\n",
        "    # Imprimir valores de la iteración\n",
        "    print(\"{0}\\t\\t {1:6.6f} \\t {2:6.6f} \\t {3:6.6f} \\t {4:6.6f}\".format(niter, Xn, Xn1, alpha_n, error))\n",
        "\n",
        "    # Actualizar Xn para la siguiente iteración\n",
        "    Xn = Xn1\n",
        "\n",
        "# Resultado final\n",
        "print(\"\\nLa raíz aproximada de la función es: {0:6.6f}\".format(Xn))"
      ],
      "metadata": {
        "colab": {
          "base_uri": "https://localhost:8080/"
        },
        "id": "lJ-Qk74P69oQ",
        "outputId": "45ab3fec-c98c-46f7-a785-3290118f0d97"
      },
      "execution_count": 11,
      "outputs": [
        {
          "output_type": "stream",
          "name": "stdout",
          "text": [
            "# iter\t\t Xn \t\t Xn+1 \t\t αn \t\t Error\n",
            "0\t\t 1.000000 \t 1.770151 \t 0.000000 \t 0.000000\n",
            "1\t\t 1.770151 \t 1.400982 \t 0.246588 \t 0.369170\n",
            "2\t\t 1.400982 \t 1.584500 \t -0.122527 \t 0.183518\n",
            "3\t\t 1.584500 \t 1.493148 \t 0.060918 \t 0.091351\n",
            "4\t\t 1.493148 \t 1.538785 \t -0.030440 \t 0.045637\n",
            "5\t\t 1.538785 \t 1.516003 \t 0.015193 \t 0.022782\n",
            "6\t\t 1.516003 \t 1.527383 \t -0.007590 \t 0.011380\n",
            "7\t\t 1.527383 \t 1.521700 \t 0.003790 \t 0.005683\n",
            "8\t\t 1.521700 \t 1.524538 \t -0.001893 \t 0.002839\n",
            "9\t\t 1.524538 \t 1.523121 \t 0.000945 \t 0.001418\n",
            "10\t\t 1.523121 \t 1.523829 \t -0.000472 \t 0.000708\n",
            "11\t\t 1.523829 \t 1.523475 \t 0.000236 \t 0.000354\n",
            "12\t\t 1.523475 \t 1.523652 \t -0.000118 \t 0.000177\n",
            "13\t\t 1.523652 \t 1.523564 \t 0.000059 \t 0.000088\n",
            "14\t\t 1.523564 \t 1.523608 \t 0.000000 \t 0.000044\n",
            "\n",
            "La raíz aproximada de la función es: 1.523608\n"
          ]
        }
      ]
    }
  ]
}