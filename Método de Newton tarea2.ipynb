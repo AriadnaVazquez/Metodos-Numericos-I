{
  "cells": [
    {
      "cell_type": "markdown",
      "metadata": {
        "id": "view-in-github",
        "colab_type": "text"
      },
      "source": [
        "<a href=\"https://colab.research.google.com/github/AriadnaVazquez/Metodos-Numericos-I/blob/main/M%C3%A9todo%20de%20Newton%20tarea2.ipynb\" target=\"_parent\"><img src=\"https://colab.research.google.com/assets/colab-badge.svg\" alt=\"Open In Colab\"/></a>"
      ]
    },
    {
      "cell_type": "code",
      "source": [
        "# Definir la función original f(x)\n",
        "def funcion(x):\n",
        "    return x**3 - x - 1"
      ],
      "metadata": {
        "id": "VqbTNlE7-Nsp"
      },
      "execution_count": 190,
      "outputs": []
    },
    {
      "cell_type": "code",
      "source": [
        "# Definir la derivada de la función f'(x)\n",
        "def derivada(x):\n",
        "    return 3*x**2 - 1"
      ],
      "metadata": {
        "id": "K0-kFVNg-zZe"
      },
      "execution_count": 191,
      "outputs": []
    },
    {
      "cell_type": "code",
      "source": [
        "# Ingreso de datos de entrada para el método de Newton\n",
        "P_o = 1  # Valor inicial\n",
        "tol = 0.01  # Representa la tolerancia\n",
        "nmax = 100  # Representa el número máximo de iteraciones\n",
        "error = 100  # Indica que el error comienza en 100\n",
        "niter = 0  # Se encarga de contar las iteraciones"
      ],
      "metadata": {
        "id": "yfeqpMH1-2Oq"
      },
      "execution_count": 192,
      "outputs": []
    },
    {
      "cell_type": "code",
      "source": [
        "#Método de Newton\n",
        "\n",
        "# Encabezado de la tabla\n",
        "print(\"n \\t P_{n-1} \\t f(P_{n-1}) \\t f'(P_{n-1}) \\t P_n \\t\\t Error\")\n",
        "\n",
        "# Primer valor de p, usando P_o\n",
        "p_anterior = P_o\n",
        "f_p_anterior = funcion(p_anterior)\n",
        "f_prime_p_anterior = derivada(p_anterior)\n",
        "\n",
        "# Calcular el primer valor de P_n\n",
        "p_n = p_anterior - (f_p_anterior / f_prime_p_anterior)\n",
        "\n",
        "# Imprimir la primera fila\n",
        "print(\"{0}\\t {1:6.6f} \\t {2:6.6f} \\t {3:6.6f} \\t {4:6.6f} \\t {5:6.6f}\".format(niter + 1, p_anterior, f_p_anterior, f_prime_p_anterior, p_n, error))\n",
        "\n",
        "# Ciclo iterativo del método de Newton\n",
        "while abs(funcion(p_n)) > tol and niter < nmax:\n",
        "    niter += 1\n",
        "    # Guardar el valor anterior de p\n",
        "    p_anterior = p_n\n",
        "    # Calcular f(P_{n-1}) y f'(P_{n-1}) en el nuevo p_anterior\n",
        "    f_p_anterior = funcion(p_anterior)\n",
        "    f_prime_p_anterior = derivada(p_anterior)\n",
        "\n",
        "    # Actualizar el valor de P_n usando la fórmula de Newton\n",
        "    p_n = p_anterior - (f_p_anterior / f_prime_p_anterior)\n",
        "\n",
        "    # Calcular el error\n",
        "    error = abs(p_n - p_anterior)\n",
        "\n",
        "    # Imprimir valores de la iteración\n",
        "    print(\"{0}\\t {1:6.6f} \\t {2:6.6f} \\t {3:6.6f} \\t {4:6.6f} \\t {5:6.6f}\".format(niter + 1, p_anterior, f_p_anterior, f_prime_p_anterior, p_n, error))\n",
        "\n",
        "# Imprimir el resultado final\n",
        "print(\"\\nLa raíz de la función dada en el intervalo [{0:6.6f},{1:6.6f}] es: {2:6.6f}\".format(1, 2, p_n))"
      ],
      "metadata": {
        "id": "wQbIPcdHATx8",
        "outputId": "78bf8945-779b-49e1-d2bf-bf2568e06f2a",
        "colab": {
          "base_uri": "https://localhost:8080/"
        }
      },
      "execution_count": 193,
      "outputs": [
        {
          "output_type": "stream",
          "name": "stdout",
          "text": [
            "n \t P_{n-1} \t f(P_{n-1}) \t f'(P_{n-1}) \t P_n \t\t Error\n",
            "1\t 1.000000 \t -1.000000 \t 2.000000 \t 1.500000 \t 100.000000\n",
            "2\t 1.500000 \t 0.875000 \t 5.750000 \t 1.347826 \t 0.152174\n",
            "3\t 1.347826 \t 0.100682 \t 4.449905 \t 1.325200 \t 0.022626\n",
            "\n",
            "La raíz de la función dada en el intervalo [1.000000,2.000000] es: 1.325200\n"
          ]
        }
      ]
    }
  ],
  "metadata": {
    "colab": {
      "name": "Te damos la bienvenida a Colaboratory",
      "toc_visible": true,
      "provenance": [],
      "include_colab_link": true
    },
    "kernelspec": {
      "display_name": "Python 3",
      "name": "python3"
    }
  },
  "nbformat": 4,
  "nbformat_minor": 0
}