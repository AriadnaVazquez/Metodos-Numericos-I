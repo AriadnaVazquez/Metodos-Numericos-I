{
  "cells": [
    {
      "cell_type": "markdown",
      "metadata": {
        "id": "view-in-github",
        "colab_type": "text"
      },
      "source": [
        "<a href=\"https://colab.research.google.com/github/AriadnaVazquez/Metodos-Numericos-I/blob/main/Metodo%20del%20punto%20fijo%20trabajo%20250924.ipynb\" target=\"_parent\"><img src=\"https://colab.research.google.com/assets/colab-badge.svg\" alt=\"Open In Colab\"/></a>"
      ]
    },
    {
      "cell_type": "code",
      "source": [
        "from math import sqrt\n",
        "import numpy as np"
      ],
      "metadata": {
        "id": "HI5GzJPDfhHw"
      },
      "execution_count": 1,
      "outputs": []
    },
    {
      "cell_type": "code",
      "source": [
        "#Definir la función original f(x)\n",
        "def funcion1(x):\n",
        "  return x**3 + 4*x**2 -10"
      ],
      "metadata": {
        "id": "Dw4DTbH5fic2"
      },
      "execution_count": 2,
      "outputs": []
    },
    {
      "cell_type": "code",
      "source": [
        "#Definir la función g(p)\n",
        "def funcion_g(p):\n",
        "  return sqrt(10/(4+p))"
      ],
      "metadata": {
        "id": "kBEHhw5m4-lD"
      },
      "execution_count": 3,
      "outputs": []
    },
    {
      "cell_type": "code",
      "source": [
        "#Ingreso datos de entrada para los diferentes métodos a trabajar\n",
        "a=1\n",
        "b=2\n",
        "\n",
        "#Guarda valores iniciales\n",
        "a0=a\n",
        "b0=b\n",
        "\n",
        "#Guarda valores inciales del error y del número de iteraciones\n",
        "\n",
        "tol=0.000001 #Representa la tolerancia\n",
        "nmax=100 #Representa el número máximo de iteraciones\n",
        "error=100 #Indica que el error comienza en 100\n",
        "niter=0 #Se encarga de contar las iteraciones"
      ],
      "metadata": {
        "id": "0lAUXWAA5O0C"
      },
      "execution_count": 4,
      "outputs": []
    },
    {
      "cell_type": "code",
      "source": [
        "#Método del punto fijo\n",
        "\n",
        "#Primer valor de p\n",
        "p=(a+b)/2\n",
        "g_p=funcion_g(p)\n",
        "\n",
        "#Encabezado de la tabla\n",
        "print(\"# iter\\t\\t p \\t\\t g(p) \\t\\t Error\")\n",
        "\n",
        "#Ciclo iterativo\n",
        "while error > tol and niter < nmax:\n",
        "  niter+=1\n",
        "  #Actualizar el valor de p y calcular g(p)\n",
        "  p_anterior=p\n",
        "  p=funcion_g(p) #p toma el valor de g(p) en cada iteración\n",
        "  g_p=funcion_g(p)\n",
        "\n",
        "  #Calcular el error\n",
        "  error=abs(p-p_anterior)\n",
        "\n",
        "  #Imprimir valores de la iteración\n",
        "  print(\"{0}\\t\\t {1:6.6f} \\t {2:6.6} \\t {3:6.6f}\".format(niter,p,g_p,error))\n",
        "\n",
        "  #Resultado final\n",
        "print(\"\\nLa raíz de la función dada en el intervalo [{0:6.6f},{1:6.6f}] es:{2:6.6f}\".format(a0,b0,p))"
      ],
      "metadata": {
        "id": "mKWLyOai6wH_",
        "outputId": "487d9401-3495-49bd-d4c1-a81b33dd4134",
        "colab": {
          "base_uri": "https://localhost:8080/"
        }
      },
      "execution_count": 5,
      "outputs": [
        {
          "output_type": "stream",
          "name": "stdout",
          "text": [
            "# iter\t\t p \t\t g(p) \t\t Error\n",
            "1\t\t 1.348400 \t 1.36738 \t 0.151600\n",
            "2\t\t 1.367376 \t 1.36496 \t 0.018977\n",
            "3\t\t 1.364957 \t 1.36526 \t 0.002419\n",
            "4\t\t 1.365265 \t 1.36523 \t 0.000308\n",
            "5\t\t 1.365226 \t 1.36523 \t 0.000039\n",
            "6\t\t 1.365231 \t 1.36523 \t 0.000005\n",
            "7\t\t 1.365230 \t 1.36523 \t 0.000001\n",
            "\n",
            "La raíz de la función dada en el intervalo [1.000000,2.000000] es:1.365230\n"
          ]
        }
      ]
    }
  ],
  "metadata": {
    "colab": {
      "name": "Te damos la bienvenida a Colaboratory",
      "toc_visible": true,
      "provenance": [],
      "include_colab_link": true
    },
    "kernelspec": {
      "display_name": "Python 3",
      "name": "python3"
    }
  },
  "nbformat": 4,
  "nbformat_minor": 0
}